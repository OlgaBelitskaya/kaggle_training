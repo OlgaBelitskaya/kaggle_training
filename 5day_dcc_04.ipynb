{
 "cells": [
  {
   "cell_type": "markdown",
   "metadata": {},
   "source": [
    "# Data Cleaning Challenge: Deduplication\n",
    "[Original Version by Rachael Tatman](https://www.kaggle.com/rtatman/data-cleaning-challenge-deduplication/?utm_medium=email&utm_source=mailchimp&utm_campaign=5DDC-data-cleaning-R)"
   ]
  },
  {
   "cell_type": "markdown",
   "metadata": {
    "_cell_guid": "09012269-7819-4b10-bd09-6c989f2a1ba2",
    "_uuid": "a5cd79dbdec221d5a14f0748afb0322f02d592b9"
   },
   "source": [
    "Welcome to Day 4 of the 5-Day Data Challenge! Today, we're going to be looking at **deduplication**.\n",
    "\n",
    "\"Duplication\" just means that you have repeated data in your dataset. This could be due to things like data entry errors or data collection methods. For example, if you're using a web scraper you may happen to scrape the same webpage more than once, or the same information from two different pages. \n",
    "Whatever the reason, duplication can lead you to make incorrect conclusions by leading you to believe that some observations are more common than they really are.\n",
    "\n",
    "Today we're going to learn how to find and remove duplicate records. (Removing duplicates is called \"deduplication\".) Here's a quick overview of what we'll be doing today.\n",
    "\n",
    "* Visualizing duplication \n",
    "* Finding & removing exact duplicates\n",
    "* Finding & removing partial duplicates\n",
    "\n",
    "I'll start by introducing each concept or technique, and then you'll get a chance to apply it with an exercise (look for the **Your turn!** section). Ready? Let's get started!\n",
    "\n",
    "___\n",
    "\n",
    "**Kernel FAQs:**\n",
    "\n",
    "* **How do I get started?**   To get started, click the blue \"Fork Notebook\" button in the upper, right hand corner. This will create a private copy of this notebook that you can edit and play with. Once you're finished with the exercises, you can choose to make your notebook public to share with others. :)\n",
    "\n",
    "* **How do I run the code in this notebook?** Once you fork the notebook, it will open in the notebook editor. From there you can write code in any code cell (the ones with the grey background) and run the code by either 1) clicking in the code cell and then hitting CTRL + ENTER or 2) clicking in the code cell and the clicking on the white \"play\" arrow to the left of the cell. If you want to run all the code in your notebook, you can use the double, \"fast forward\" arrows at the bottom of the notebook editor.\n",
    "\n",
    "* **How do I save my work?** Any changes you make are saved automatically as you work. You can run all the code in your notebook and save a static version by hitting the blue \"Commit & Run\" button in the upper right hand corner of the editor. \n",
    "\n",
    "* **How can I find my notebook again later?** The easiest way is to go to your user profile (https://www.kaggle.com/replace-this-with-your-username), then click on the \"Kernels\" tab. All of your kernels will be under the \"Your Work\" tab, and all the kernels you've upvoted will be under the \"Favorites\" tab.\n",
    "\n",
    "___\n"
   ]
  },
  {
   "cell_type": "markdown",
   "metadata": {
    "_cell_guid": "640f8797-70e7-4fad-8723-66e58476e658",
    "_uuid": "5df79f2b00a3dbd89d1c9a21fbb7564a93a6ba52"
   },
   "source": [
    "# Get our environment set up\n",
    "___\n",
    "\n",
    "Before we get started, we need to get our environment set up. Today, we'll be working with two video game datasets. The `video_game` dataset contains information on what games some Steam users bought and how many hours they spent playing them. The `ign_data` dataset contains information on reviews of different video games."
   ]
  },
  {
   "cell_type": "code",
   "execution_count": 4,
   "metadata": {},
   "outputs": [],
   "source": [
    "# install.packages('slam')"
   ]
  },
  {
   "cell_type": "code",
   "execution_count": 7,
   "metadata": {
    "_cell_guid": "06e4218b-40f8-49a3-bc72-124294f6b4b7",
    "_kg_hide-output": true,
    "_uuid": "7e8509598680a6471093d84c88cb81c5c44f243c"
   },
   "outputs": [
    {
     "name": "stderr",
     "output_type": "stream",
     "text": [
      "Warning message:\n",
      "“Missing column names filled in: 'X1' [1]”Parsed with column specification:\n",
      "cols(\n",
      "  X1 = col_integer(),\n",
      "  score_phrase = col_character(),\n",
      "  title = col_character(),\n",
      "  url = col_character(),\n",
      "  platform = col_character(),\n",
      "  score = col_double(),\n",
      "  genre = col_character(),\n",
      "  editors_choice = col_character(),\n",
      "  release_year = col_integer(),\n",
      "  release_month = col_integer(),\n",
      "  release_day = col_integer()\n",
      ")\n"
     ]
    }
   ],
   "source": [
    "# libraries we'll need\n",
    "library(tidyverse) # handy utility functions\n",
    "library(scrubr) # for deduplication\n",
    "library(IRdisplay)\n",
    "library(repr)\n",
    "\n",
    "# read in Steam video game data & add column names\n",
    "video_games <- read.csv(\"steam-video-games/steam-200k.csv\", header = F) # read in data\n",
    "names(video_games) <- c(\"user_id\", \"game_title\", \"behavior_name\", \"value\", \"x\") # add column names\n",
    "video_games <- as_data_frame(video_games[, 1:4]) # drop last column & convert to data_frame\n",
    "\n",
    "# read in IGN video game data\n",
    "ign_data <- read_csv(\"20-years-of-games/ign.csv\")\n",
    "ign_data <- select(ign_data, -X1) # drop column with row numbers"
   ]
  },
  {
   "cell_type": "code",
   "execution_count": 8,
   "metadata": {},
   "outputs": [
    {
     "data": {
      "text/html": [
       "<style> \n",
       "h1, h2, h3 {text-shadow: 4px 4px 4px #aaa;} \n",
       "span {color: black; text-shadow: 4px 4px 4px #aaa;}\n",
       "div.output_prompt {color: darkblue;} \n",
       "div.input_prompt {color: steelblue;} \n",
       "</style>"
      ]
     },
     "metadata": {},
     "output_type": "display_data"
    }
   ],
   "source": [
    "display_html(\"<style> \n",
    "h1, h2, h3 {text-shadow: 4px 4px 4px #aaa;} \n",
    "span {color: black; text-shadow: 4px 4px 4px #aaa;}\n",
    "div.output_prompt {color: darkblue;} \n",
    "div.input_prompt {color: steelblue;} \n",
    "</style>\")"
   ]
  },
  {
   "cell_type": "markdown",
   "metadata": {
    "_cell_guid": "080a7924-925c-44e0-afca-60ec47db59ba",
    "_uuid": "3a91700bfc5ef8bc655a0f83fe08785027fd172b"
   },
   "source": [
    "# What is duplication?\n",
    "___\n",
    "\n",
    "To start off, let's define what we mean by \"duplication\". Duplication can mean two slightly different things: \n",
    "\n",
    "1.  More than one record that is exactly the same. This is what I call \"exact duplication\".\n",
    "2. More than one record associated with the same observation, but the values in the rows are not exactly the same. This is what I call \"partial duplication\", but removing these types of duplicated records is also called \"record linkage\". \n",
    "\n",
    "Today, we'll be talking about methods to identify and remove both of these types of duplication. "
   ]
  },
  {
   "cell_type": "markdown",
   "metadata": {
    "_cell_guid": "54dece50-b47b-4eb1-adc7-30d929ff68ca",
    "_uuid": "8472c478f51d6f4cbd77c6b06e66bf86b4eaef2b"
   },
   "source": [
    "# Visualizing duplication \n",
    "____\n",
    "\n",
    "You may have noticed that I tend to do a lot of visualizing as part of different data cleaning tasks, and deduplication is no exception! Let's take a look at how many rows are duplicated in our dataset and where they are. There are a couple reasons you may want to do this:\n",
    "\n",
    "1. See how much duplicated data you have. If you only have a couple duplicates, or even none, you can just move on without worrying about them.\n",
    "2. See if there are any patterns in duplication. One fairly common pattern is that you'll see big blocks of duplicates due to data being copy and pasted at the end of existing data. If that's the case, you can just remove those rows from your dataframe and call it a day.\n",
    "\n",
    "To plot duplicates, I'm first going to create a dataframe with 1) a logical vector indicating whether or not a specific row is duplicated elsewhere in the dataset and 2) a numeric vector of the index of each row. (I'm not using row numbers because if you're using the Tidyverse version of a dataframe, they get removed whenever you manipulate the dataframe.) Then, I'm going to plot that information so that each duplicated row shows up as a black line. Like so:  "
   ]
  },
  {
   "cell_type": "code",
   "execution_count": 10,
   "metadata": {
    "_cell_guid": "38e50e7a-4be8-45ea-b7cc-43829b18196a",
    "_uuid": "6096d7c96d65807d4080160151cbce693d0ed4c5"
   },
   "outputs": [
    {
     "data": {},
     "metadata": {},
     "output_type": "display_data"
    },
    {
     "data": {
      "image/png": "[encoded data removed]",
      "text/plain": [
       "plot without title"
      ]
     },
     "metadata": {},
     "output_type": "display_data"
    }
   ],
   "source": [
    "# get the row numbers of duplicated rows\n",
    "duplicated_rows <- data_frame(duplicated = duplicated(ign_data), row = 1:nrow(ign_data)) %>%\n",
    "    filter(duplicated == T)\n",
    "\n",
    "# Plot duplicated rows as black lines\n",
    "ggplot(duplicated_rows, aes(xintercept = row)) +\n",
    "    geom_vline(aes(xintercept = row)) + # plot a black line for each duplicated row\n",
    "    ggtitle(\"Indexes of duplicated rows\") + # add a title\n",
    "    coord_flip() + scale_x_reverse() # flip x & y axis\n",
    "    scale_x_reverse() # reverse the x axis"
   ]
  },
  {
   "cell_type": "markdown",
   "metadata": {
    "_cell_guid": "b81d84b1-eab2-422b-b7a6-79784128cddb",
    "_uuid": "48ef4473aec12d3fd88eab975ef9084be264bd50"
   },
   "source": [
    "Looking at this chart tells us two things. First, we do have quite a bit of duplicated data, so we'll probably want to handle that somehow. Secondly, there's no clear pattern to the duplicated values, so it would be too time consuming to remove them by row index."
   ]
  },
  {
   "cell_type": "markdown",
   "metadata": {
    "_cell_guid": "3a6625f8-4a3a-489d-b522-338db2769656",
    "_uuid": "338401ddf025375ed1829c18c6c923814d351820"
   },
   "source": [
    "## Your turn!\n",
    "___\n",
    "\n",
    "Plot the indexes of duplicated rows in the `video games` dataset. Are there more or less duplicated rows in this dataset than in the IGN dataset? Do you notice any patterns?"
   ]
  },
  {
   "cell_type": "code",
   "execution_count": 11,
   "metadata": {
    "_cell_guid": "f272b162-2fdf-4f0b-97c7-21ab4aab6514",
    "_uuid": "2044cf4dba354f1fa3b9dcf0173fbdcaf5ecd290"
   },
   "outputs": [
    {
     "data": {},
     "metadata": {},
     "output_type": "display_data"
    },
    {
     "data": {
      "image/png": "[encoded data removed]",
      "text/plain": [
       "plot without title"
      ]
     },
     "metadata": {},
     "output_type": "display_data"
    }
   ],
   "source": [
    "# your code here :)\n",
    "# get the row numbers of duplicated rows\n",
    "duplicated_rows2 <- data_frame(duplicated = duplicated(video_games), row = 1:nrow(video_games)) %>%\n",
    "    filter(duplicated == T)\n",
    "\n",
    "# Plot duplicated rows as black lines\n",
    "ggplot(duplicated_rows2, aes(xintercept = row)) +\n",
    "    geom_vline(aes(xintercept = row)) + # plot a black line for each duplicated row\n",
    "    ggtitle(\"Indexes of duplicated rows\") + # add a title\n",
    "    coord_flip() + # flip x & y axis\n",
    "    scale_x_reverse() # reverse the x axis"
   ]
  },
  {
   "cell_type": "markdown",
   "metadata": {
    "_cell_guid": "7eb5a358-f644-41e3-aac3-ccd83f672f43",
    "_uuid": "3641219d0283338584faeb22b4aeed031459a6b1"
   },
   "source": [
    "# Find and remove exact duplicates\n",
    "____\n",
    "\n",
    "Now that we know how to find them, let's look at some of our data."
   ]
  },
  {
   "cell_type": "code",
   "execution_count": 17,
   "metadata": {
    "_cell_guid": "3f865a56-8d74-4d53-b4a4-636f24e9ca04",
    "_uuid": "5b1f7b9961d8e3af7f2bb54da05ed7cbd94467da"
   },
   "outputs": [
    {
     "data": {
      "text/html": [
       "<table>\n",
       "<thead><tr><th scope=col>score_phrase</th><th scope=col>title</th><th scope=col>url</th><th scope=col>platform</th><th scope=col>score</th><th scope=col>genre</th><th scope=col>editors_choice</th><th scope=col>release_year</th><th scope=col>release_month</th><th scope=col>release_day</th></tr></thead>\n",
       "<tbody>\n",
       "\t<tr><td>Amazing                                                               </td><td>LittleBigPlanet PS Vita                                               </td><td>/games/littlebigplanet-vita/vita-98907                                </td><td>PlayStation Vita                                                      </td><td>9.0                                                                   </td><td>Platformer                                                            </td><td>Y                                                                     </td><td>2012                                                                  </td><td>9                                                                     </td><td>12                                                                    </td></tr>\n",
       "\t<tr><td>Amazing                                                               </td><td>LittleBigPlanet PS Vita -- Marvel Super Hero Edition                  </td><td>/games/littlebigplanet-ps-vita-marvel-super-hero-edition/vita-20027059</td><td>PlayStation Vita                                                      </td><td>9.0                                                                   </td><td>Platformer                                                            </td><td>Y                                                                     </td><td>2012                                                                  </td><td>9                                                                     </td><td>12                                                                    </td></tr>\n",
       "\t<tr><td>Great                                                                 </td><td>Splice: Tree of Life                                                  </td><td>/games/splice/ipad-141070                                             </td><td>iPad                                                                  </td><td>8.5                                                                   </td><td>Puzzle                                                                </td><td>N                                                                     </td><td>2012                                                                  </td><td>9                                                                     </td><td>12                                                                    </td></tr>\n",
       "\t<tr><td>Great                                                                 </td><td>NHL 13                                                                </td><td>/games/nhl-13/xbox-360-128182                                         </td><td>Xbox 360                                                              </td><td>8.5                                                                   </td><td>Sports                                                                </td><td>N                                                                     </td><td>2012                                                                  </td><td>9                                                                     </td><td>11                                                                    </td></tr>\n",
       "\t<tr><td>Great                                                                 </td><td>NHL 13                                                                </td><td>/games/nhl-13/ps3-128181                                              </td><td>PlayStation 3                                                         </td><td>8.5                                                                   </td><td>Sports                                                                </td><td>N                                                                     </td><td>2012                                                                  </td><td>9                                                                     </td><td>11                                                                    </td></tr>\n",
       "\t<tr><td>Good                                                                  </td><td>Total War Battles: Shogun                                             </td><td>/games/total-war-battles-shogun/mac-142565                            </td><td>Macintosh                                                             </td><td>7.0                                                                   </td><td>Strategy                                                              </td><td>N                                                                     </td><td>2012                                                                  </td><td>9                                                                     </td><td>11                                                                    </td></tr>\n",
       "</tbody>\n",
       "</table>\n"
      ],
      "text/latex": [
       "\\begin{tabular}{r|llllllllll}\n",
       " score\\_phrase & title & url & platform & score & genre & editors\\_choice & release\\_year & release\\_month & release\\_day\\\\\n",
       "\\hline\n",
       "\t Amazing                                                                & LittleBigPlanet PS Vita                                                & /games/littlebigplanet-vita/vita-98907                                 & PlayStation Vita                                                       & 9.0                                                                    & Platformer                                                             & Y                                                                      & 2012                                                                   & 9                                                                      & 12                                                                    \\\\\n",
       "\t Amazing                                                                & LittleBigPlanet PS Vita -- Marvel Super Hero Edition                   & /games/littlebigplanet-ps-vita-marvel-super-hero-edition/vita-20027059 & PlayStation Vita                                                       & 9.0                                                                    & Platformer                                                             & Y                                                                      & 2012                                                                   & 9                                                                      & 12                                                                    \\\\\n",
       "\t Great                                                                  & Splice: Tree of Life                                                   & /games/splice/ipad-141070                                              & iPad                                                                   & 8.5                                                                    & Puzzle                                                                 & N                                                                      & 2012                                                                   & 9                                                                      & 12                                                                    \\\\\n",
       "\t Great                                                                  & NHL 13                                                                 & /games/nhl-13/xbox-360-128182                                          & Xbox 360                                                               & 8.5                                                                    & Sports                                                                 & N                                                                      & 2012                                                                   & 9                                                                      & 11                                                                    \\\\\n",
       "\t Great                                                                  & NHL 13                                                                 & /games/nhl-13/ps3-128181                                               & PlayStation 3                                                          & 8.5                                                                    & Sports                                                                 & N                                                                      & 2012                                                                   & 9                                                                      & 11                                                                    \\\\\n",
       "\t Good                                                                   & Total War Battles: Shogun                                              & /games/total-war-battles-shogun/mac-142565                             & Macintosh                                                              & 7.0                                                                    & Strategy                                                               & N                                                                      & 2012                                                                   & 9                                                                      & 11                                                                    \\\\\n",
       "\\end{tabular}\n"
      ],
      "text/markdown": [
       "\n",
       "score_phrase | title | url | platform | score | genre | editors_choice | release_year | release_month | release_day | \n",
       "|---|---|---|---|---|---|\n",
       "| Amazing                                                                | LittleBigPlanet PS Vita                                                | /games/littlebigplanet-vita/vita-98907                                 | PlayStation Vita                                                       | 9.0                                                                    | Platformer                                                             | Y                                                                      | 2012                                                                   | 9                                                                      | 12                                                                     | \n",
       "| Amazing                                                                | LittleBigPlanet PS Vita -- Marvel Super Hero Edition                   | /games/littlebigplanet-ps-vita-marvel-super-hero-edition/vita-20027059 | PlayStation Vita                                                       | 9.0                                                                    | Platformer                                                             | Y                                                                      | 2012                                                                   | 9                                                                      | 12                                                                     | \n",
       "| Great                                                                  | Splice: Tree of Life                                                   | /games/splice/ipad-141070                                              | iPad                                                                   | 8.5                                                                    | Puzzle                                                                 | N                                                                      | 2012                                                                   | 9                                                                      | 12                                                                     | \n",
       "| Great                                                                  | NHL 13                                                                 | /games/nhl-13/xbox-360-128182                                          | Xbox 360                                                               | 8.5                                                                    | Sports                                                                 | N                                                                      | 2012                                                                   | 9                                                                      | 11                                                                     | \n",
       "| Great                                                                  | NHL 13                                                                 | /games/nhl-13/ps3-128181                                               | PlayStation 3                                                          | 8.5                                                                    | Sports                                                                 | N                                                                      | 2012                                                                   | 9                                                                      | 11                                                                     | \n",
       "| Good                                                                   | Total War Battles: Shogun                                              | /games/total-war-battles-shogun/mac-142565                             | Macintosh                                                              | 7.0                                                                    | Strategy                                                               | N                                                                      | 2012                                                                   | 9                                                                      | 11                                                                     | \n",
       "\n",
       "\n"
      ],
      "text/plain": [
       "  score_phrase title                                               \n",
       "1 Amazing      LittleBigPlanet PS Vita                             \n",
       "2 Amazing      LittleBigPlanet PS Vita -- Marvel Super Hero Edition\n",
       "3 Great        Splice: Tree of Life                                \n",
       "4 Great        NHL 13                                              \n",
       "5 Great        NHL 13                                              \n",
       "6 Good         Total War Battles: Shogun                           \n",
       "  url                                                                   \n",
       "1 /games/littlebigplanet-vita/vita-98907                                \n",
       "2 /games/littlebigplanet-ps-vita-marvel-super-hero-edition/vita-20027059\n",
       "3 /games/splice/ipad-141070                                             \n",
       "4 /games/nhl-13/xbox-360-128182                                         \n",
       "5 /games/nhl-13/ps3-128181                                              \n",
       "6 /games/total-war-battles-shogun/mac-142565                            \n",
       "  platform         score genre      editors_choice release_year release_month\n",
       "1 PlayStation Vita 9.0   Platformer Y              2012         9            \n",
       "2 PlayStation Vita 9.0   Platformer Y              2012         9            \n",
       "3 iPad             8.5   Puzzle     N              2012         9            \n",
       "4 Xbox 360         8.5   Sports     N              2012         9            \n",
       "5 PlayStation 3    8.5   Sports     N              2012         9            \n",
       "6 Macintosh        7.0   Strategy   N              2012         9            \n",
       "  release_day\n",
       "1 12         \n",
       "2 12         \n",
       "3 12         \n",
       "4 11         \n",
       "5 11         \n",
       "6 11         "
      ]
     },
     "metadata": {},
     "output_type": "display_data"
    }
   ],
   "source": [
    "# look at the first few rows\n",
    "head(ign_data)"
   ]
  },
  {
   "cell_type": "markdown",
   "metadata": {
    "_cell_guid": "7ddd62ba-5b3a-4fbd-9f03-97247d144d49",
    "_uuid": "80b00a3ef4976b00890f43a1c0d629367b75341c"
   },
   "source": [
    "While there are some things that I would call \"partial duplicates\", like the two reviews of \"NHL 13\" with the same score and release date, I don't see any exact duplicates. We know they exist because we saw them in our visualization earlier, though. Let's use the `duplicated()` function to see how many exactly duplicated rows we have in our dataset:"
   ]
  },
  {
   "cell_type": "code",
   "execution_count": 13,
   "metadata": {
    "_cell_guid": "5073db87-9383-41f4-b168-a0269debb620",
    "_uuid": "b150d87e393a076bc423c432c43ed1167850ccf8"
   },
   "outputs": [
    {
     "data": {
      "text/html": [
       "48"
      ],
      "text/latex": [
       "48"
      ],
      "text/markdown": [
       "48"
      ],
      "text/plain": [
       "[1] 48"
      ]
     },
     "metadata": {},
     "output_type": "display_data"
    }
   ],
   "source": [
    "# count the number of duplicated row in our dataset\n",
    "duplicated(ign_data) %>%\n",
    "    sum()"
   ]
  },
  {
   "cell_type": "markdown",
   "metadata": {
    "_cell_guid": "b6148a10-de5a-4687-9587-d1c707fd4226",
    "_uuid": "5c05841b6eab1549d46b3efd87a69592a53144cd"
   },
   "source": [
    "So it looks like there are 48 duplicated rows in our dataset. Fortunately, they are very easy to remove: you can the function `distinct()` to select only the non-duplicated rows in our dataset. Like so:"
   ]
  },
  {
   "cell_type": "code",
   "execution_count": 14,
   "metadata": {
    "_cell_guid": "ca34935b-4332-427c-a852-144b61049332",
    "_uuid": "48023a34f5c631025e43a4ac9df432bac7baf1f6"
   },
   "outputs": [],
   "source": [
    "# get only the distinct rows in our dataset\n",
    "ign_data_distinct <- distinct(ign_data)"
   ]
  },
  {
   "cell_type": "markdown",
   "metadata": {
    "_cell_guid": "7757acd0-1ecc-4029-82c4-9d4f247854b3",
    "_uuid": "72378e22aeea74302614791a6f8085f17960aca7"
   },
   "source": [
    "Just to double-check that we did remove all the duplicated rows, let's see how many rows we removed from our dataframe using `distinct()`. "
   ]
  },
  {
   "cell_type": "code",
   "execution_count": 15,
   "metadata": {
    "_cell_guid": "bcd76df6-a32d-4c51-93a9-b0690f7cd7b5",
    "_uuid": "e5ae1cdfb9d822cd0880f070bb817da0762b6e60"
   },
   "outputs": [
    {
     "data": {
      "text/html": [
       "48"
      ],
      "text/latex": [
       "48"
      ],
      "text/markdown": [
       "48"
      ],
      "text/plain": [
       "[1] 48"
      ]
     },
     "metadata": {},
     "output_type": "display_data"
    }
   ],
   "source": [
    "# how many rows did we remove?\n",
    "nrow(ign_data) - nrow(ign_data_distinct)"
   ]
  },
  {
   "cell_type": "markdown",
   "metadata": {
    "_cell_guid": "6a66f982-7b05-4039-9aef-8dd365738528",
    "_uuid": "0113953b016728235daaaf361f7542d4c8aaecd4"
   },
   "source": [
    "Success! We did remove all 48 rows with exactly duplicates from our dataframe."
   ]
  },
  {
   "cell_type": "markdown",
   "metadata": {
    "_cell_guid": "10abff79-989f-46e2-9be0-5080d910df99",
    "_uuid": "e87b72284bcfd53ddf609c72bdec53b0226e6b7c"
   },
   "source": [
    "## Your turn!\n",
    "___\n",
    "\n",
    "Are there any exact duplicates in the `video_games` dataset? If so, try removing them."
   ]
  },
  {
   "cell_type": "code",
   "execution_count": 16,
   "metadata": {
    "_cell_guid": "e8bc18e6-fb18-46b3-a8e9-59adc90ec996",
    "_uuid": "4aa37411744c7ec77b433139984724dfe7eeccd5"
   },
   "outputs": [
    {
     "data": {
      "text/html": [
       "<table>\n",
       "<thead><tr><th scope=col>user_id</th><th scope=col>game_title</th><th scope=col>behavior_name</th><th scope=col>value</th></tr></thead>\n",
       "<tbody>\n",
       "\t<tr><td>151603712                 </td><td>The Elder Scrolls V Skyrim</td><td>purchase                  </td><td>  1.0                     </td></tr>\n",
       "\t<tr><td>151603712                 </td><td>The Elder Scrolls V Skyrim</td><td>play                      </td><td>273.0                     </td></tr>\n",
       "\t<tr><td>151603712                 </td><td>Fallout 4                 </td><td>purchase                  </td><td>  1.0                     </td></tr>\n",
       "\t<tr><td>151603712                 </td><td>Fallout 4                 </td><td>play                      </td><td> 87.0                     </td></tr>\n",
       "\t<tr><td>151603712                 </td><td>Spore                     </td><td>purchase                  </td><td>  1.0                     </td></tr>\n",
       "\t<tr><td>151603712                 </td><td>Spore                     </td><td>play                      </td><td> 14.9                     </td></tr>\n",
       "\t<tr><td>151603712                 </td><td>Fallout New Vegas         </td><td>purchase                  </td><td>  1.0                     </td></tr>\n",
       "\t<tr><td>151603712                 </td><td>Fallout New Vegas         </td><td>play                      </td><td> 12.1                     </td></tr>\n",
       "\t<tr><td>151603712                 </td><td>Left 4 Dead 2             </td><td>purchase                  </td><td>  1.0                     </td></tr>\n",
       "\t<tr><td>151603712                 </td><td>Left 4 Dead 2             </td><td>play                      </td><td>  8.9                     </td></tr>\n",
       "</tbody>\n",
       "</table>\n"
      ],
      "text/latex": [
       "\\begin{tabular}{r|llll}\n",
       " user\\_id & game\\_title & behavior\\_name & value\\\\\n",
       "\\hline\n",
       "\t 151603712                  & The Elder Scrolls V Skyrim & purchase                   &   1.0                     \\\\\n",
       "\t 151603712                  & The Elder Scrolls V Skyrim & play                       & 273.0                     \\\\\n",
       "\t 151603712                  & Fallout 4                  & purchase                   &   1.0                     \\\\\n",
       "\t 151603712                  & Fallout 4                  & play                       &  87.0                     \\\\\n",
       "\t 151603712                  & Spore                      & purchase                   &   1.0                     \\\\\n",
       "\t 151603712                  & Spore                      & play                       &  14.9                     \\\\\n",
       "\t 151603712                  & Fallout New Vegas          & purchase                   &   1.0                     \\\\\n",
       "\t 151603712                  & Fallout New Vegas          & play                       &  12.1                     \\\\\n",
       "\t 151603712                  & Left 4 Dead 2              & purchase                   &   1.0                     \\\\\n",
       "\t 151603712                  & Left 4 Dead 2              & play                       &   8.9                     \\\\\n",
       "\\end{tabular}\n"
      ],
      "text/markdown": [
       "\n",
       "user_id | game_title | behavior_name | value | \n",
       "|---|---|---|---|---|---|---|---|---|---|\n",
       "| 151603712                  | The Elder Scrolls V Skyrim | purchase                   |   1.0                      | \n",
       "| 151603712                  | The Elder Scrolls V Skyrim | play                       | 273.0                      | \n",
       "| 151603712                  | Fallout 4                  | purchase                   |   1.0                      | \n",
       "| 151603712                  | Fallout 4                  | play                       |  87.0                      | \n",
       "| 151603712                  | Spore                      | purchase                   |   1.0                      | \n",
       "| 151603712                  | Spore                      | play                       |  14.9                      | \n",
       "| 151603712                  | Fallout New Vegas          | purchase                   |   1.0                      | \n",
       "| 151603712                  | Fallout New Vegas          | play                       |  12.1                      | \n",
       "| 151603712                  | Left 4 Dead 2              | purchase                   |   1.0                      | \n",
       "| 151603712                  | Left 4 Dead 2              | play                       |   8.9                      | \n",
       "\n",
       "\n"
      ],
      "text/plain": [
       "   user_id   game_title                 behavior_name value\n",
       "1  151603712 The Elder Scrolls V Skyrim purchase        1.0\n",
       "2  151603712 The Elder Scrolls V Skyrim play          273.0\n",
       "3  151603712 Fallout 4                  purchase        1.0\n",
       "4  151603712 Fallout 4                  play           87.0\n",
       "5  151603712 Spore                      purchase        1.0\n",
       "6  151603712 Spore                      play           14.9\n",
       "7  151603712 Fallout New Vegas          purchase        1.0\n",
       "8  151603712 Fallout New Vegas          play           12.1\n",
       "9  151603712 Left 4 Dead 2              purchase        1.0\n",
       "10 151603712 Left 4 Dead 2              play            8.9"
      ]
     },
     "metadata": {},
     "output_type": "display_data"
    }
   ],
   "source": [
    "# your code here\n",
    "head(video_games,10)"
   ]
  },
  {
   "cell_type": "code",
   "execution_count": 18,
   "metadata": {},
   "outputs": [
    {
     "data": {
      "text/html": [
       "707"
      ],
      "text/latex": [
       "707"
      ],
      "text/markdown": [
       "707"
      ],
      "text/plain": [
       "[1] 707"
      ]
     },
     "metadata": {},
     "output_type": "display_data"
    }
   ],
   "source": [
    "# count the number of duplicated row in our dataset¶\n",
    "duplicated(video_games) %>% \n",
    "    sum()"
   ]
  },
  {
   "cell_type": "code",
   "execution_count": 19,
   "metadata": {},
   "outputs": [],
   "source": [
    "# get only the distinct rows in our dataset\n",
    "video_games_distinct <- distinct(video_games)"
   ]
  },
  {
   "cell_type": "code",
   "execution_count": 20,
   "metadata": {},
   "outputs": [
    {
     "data": {
      "text/html": [
       "707"
      ],
      "text/latex": [
       "707"
      ],
      "text/markdown": [
       "707"
      ],
      "text/plain": [
       "[1] 707"
      ]
     },
     "metadata": {},
     "output_type": "display_data"
    }
   ],
   "source": [
    "# how many rows did we remove?\n",
    "nrow(video_games) - nrow(video_games_distinct)"
   ]
  },
  {
   "cell_type": "markdown",
   "metadata": {
    "_cell_guid": "d1dbf4de-8c36-49a1-9abf-fb672a8d96bb",
    "_uuid": "d8b1f09feae8bbcbb7b43660cb42a86897ce98d0"
   },
   "source": [
    "# Find and remove partial duplicates\n",
    "___\n",
    "\n",
    "Removing *exact* duplicates is pretty straightforward. Removing partial duplicates, on the other hand, is much more complex. Fortunately, there are some handy tools we can use to make the process easier. I particularly like the [the dedup() function from the scrubr package](https://cran.r-project.org/web/packages/scrubr/vignettes/scrubr_vignette.html) by Scott Chamberlain. (If you haven't run into it before, the scrubr package can help you with a lot of different data cleaning tasks, like removing impossible latitude and longitude coordinates or standardizing dates.)\n",
    "\n",
    "One of the hassles of removing partial duplicates is that it tends to take a lot of computation time. This is because you need to make a lot of different comparisons to determine which rows only partially match with other ones. It's also because, in this case, we're actually converting every row to a string and then [comparing how similar the strings are](https://www.rdocumentation.org/packages/qlcMatrix/versions/0.9.5/topics/sim.strings) (this can help you catch things like slightly misspelled names). Since it takes longer the larger your dataset is, I'm going to use just the first twenty rows of the IGN dataset for this example so it doesn't take forever. "
   ]
  },
  {
   "cell_type": "code",
   "execution_count": 21,
   "metadata": {
    "_cell_guid": "56eea978-ec22-4a6c-a937-91bb9c3cc319",
    "_uuid": "5b14226bdcf1e41a973aedd1ee1cfe6737d33849"
   },
   "outputs": [
    {
     "data": {
      "text/html": [
       "<table>\n",
       "<thead><tr><th scope=col>score_phrase</th><th scope=col>title</th><th scope=col>url</th><th scope=col>platform</th><th scope=col>score</th><th scope=col>genre</th><th scope=col>editors_choice</th><th scope=col>release_year</th><th scope=col>release_month</th><th scope=col>release_day</th></tr></thead>\n",
       "<tbody>\n",
       "\t<tr><td>Amazing                                                               </td><td>LittleBigPlanet PS Vita                                               </td><td>/games/littlebigplanet-vita/vita-98907                                </td><td>PlayStation Vita                                                      </td><td>9.0                                                                   </td><td>Platformer                                                            </td><td>Y                                                                     </td><td>2012                                                                  </td><td>9                                                                     </td><td>12                                                                    </td></tr>\n",
       "\t<tr><td>Amazing                                                               </td><td>LittleBigPlanet PS Vita -- Marvel Super Hero Edition                  </td><td>/games/littlebigplanet-ps-vita-marvel-super-hero-edition/vita-20027059</td><td>PlayStation Vita                                                      </td><td>9.0                                                                   </td><td>Platformer                                                            </td><td>Y                                                                     </td><td>2012                                                                  </td><td>9                                                                     </td><td>12                                                                    </td></tr>\n",
       "\t<tr><td>Great                                                                 </td><td>Splice: Tree of Life                                                  </td><td>/games/splice/ipad-141070                                             </td><td>iPad                                                                  </td><td>8.5                                                                   </td><td>Puzzle                                                                </td><td>N                                                                     </td><td>2012                                                                  </td><td>9                                                                     </td><td>12                                                                    </td></tr>\n",
       "\t<tr><td>Great                                                                 </td><td>NHL 13                                                                </td><td>/games/nhl-13/xbox-360-128182                                         </td><td>Xbox 360                                                              </td><td>8.5                                                                   </td><td>Sports                                                                </td><td>N                                                                     </td><td>2012                                                                  </td><td>9                                                                     </td><td>11                                                                    </td></tr>\n",
       "\t<tr><td>Great                                                                 </td><td>NHL 13                                                                </td><td>/games/nhl-13/ps3-128181                                              </td><td>PlayStation 3                                                         </td><td>8.5                                                                   </td><td>Sports                                                                </td><td>N                                                                     </td><td>2012                                                                  </td><td>9                                                                     </td><td>11                                                                    </td></tr>\n",
       "\t<tr><td>Good                                                                  </td><td>Total War Battles: Shogun                                             </td><td>/games/total-war-battles-shogun/mac-142565                            </td><td>Macintosh                                                             </td><td>7.0                                                                   </td><td>Strategy                                                              </td><td>N                                                                     </td><td>2012                                                                  </td><td>9                                                                     </td><td>11                                                                    </td></tr>\n",
       "\t<tr><td>Awful                                                                 </td><td>Double Dragon: Neon                                                   </td><td>/games/double-dragon-neon/xbox-360-131320                             </td><td>Xbox 360                                                              </td><td>3.0                                                                   </td><td>Fighting                                                              </td><td>N                                                                     </td><td>2012                                                                  </td><td>9                                                                     </td><td>11                                                                    </td></tr>\n",
       "\t<tr><td>Amazing                                                               </td><td>Guild Wars 2                                                          </td><td>/games/guild-wars-2/pc-896298                                         </td><td>PC                                                                    </td><td>9.0                                                                   </td><td>RPG                                                                   </td><td>Y                                                                     </td><td>2012                                                                  </td><td>9                                                                     </td><td>11                                                                    </td></tr>\n",
       "\t<tr><td>Awful                                                                 </td><td>Double Dragon: Neon                                                   </td><td>/games/double-dragon-neon/ps3-131321                                  </td><td>PlayStation 3                                                         </td><td>3.0                                                                   </td><td>Fighting                                                              </td><td>N                                                                     </td><td>2012                                                                  </td><td>9                                                                     </td><td>11                                                                    </td></tr>\n",
       "\t<tr><td>Good                                                                  </td><td>Total War Battles: Shogun                                             </td><td>/games/total-war-battles-shogun/pc-142564                             </td><td>PC                                                                    </td><td>7.0                                                                   </td><td>Strategy                                                              </td><td>N                                                                     </td><td>2012                                                                  </td><td>9                                                                     </td><td>11                                                                    </td></tr>\n",
       "\t<tr><td>Good                                                                  </td><td>Tekken Tag Tournament 2                                               </td><td>/games/tekken-tag-tournament-2/ps3-124584                             </td><td>PlayStation 3                                                         </td><td>7.5                                                                   </td><td>Fighting                                                              </td><td>N                                                                     </td><td>2012                                                                  </td><td>9                                                                     </td><td>11                                                                    </td></tr>\n",
       "\t<tr><td>Good                                                                  </td><td>Tekken Tag Tournament 2                                               </td><td>/games/tekken-tag-tournament-2/xbox-360-124581                        </td><td>Xbox 360                                                              </td><td>7.5                                                                   </td><td>Fighting                                                              </td><td>N                                                                     </td><td>2012                                                                  </td><td>9                                                                     </td><td>11                                                                    </td></tr>\n",
       "\t<tr><td>Good                                                                  </td><td>Wild Blood                                                            </td><td>/games/wild-blood/iphone-139363                                       </td><td>iPhone                                                                </td><td>7.0                                                                   </td><td>NA                                                                    </td><td>N                                                                     </td><td>2012                                                                  </td><td>9                                                                     </td><td>10                                                                    </td></tr>\n",
       "\t<tr><td>Amazing                                                               </td><td>Mark of the Ninja                                                     </td><td>/games/mark-of-the-ninja-135615/xbox-360-129276                       </td><td>Xbox 360                                                              </td><td>9.0                                                                   </td><td>Action, Adventure                                                     </td><td>Y                                                                     </td><td>2012                                                                  </td><td>9                                                                     </td><td> 7                                                                    </td></tr>\n",
       "\t<tr><td>Amazing                                                               </td><td>Mark of the Ninja                                                     </td><td>/games/mark-of-the-ninja-135615/pc-143761                             </td><td>PC                                                                    </td><td>9.0                                                                   </td><td>Action, Adventure                                                     </td><td>Y                                                                     </td><td>2012                                                                  </td><td>9                                                                     </td><td> 7                                                                    </td></tr>\n",
       "\t<tr><td>Okay                                                                  </td><td>Home: A Unique Horror Adventure                                       </td><td>/games/home-a-unique-horror-adventure/mac-20014750                    </td><td>Macintosh                                                             </td><td>6.5                                                                   </td><td>Adventure                                                             </td><td>N                                                                     </td><td>2012                                                                  </td><td>9                                                                     </td><td> 6                                                                    </td></tr>\n",
       "\t<tr><td>Okay                                                                  </td><td>Home: A Unique Horror Adventure                                       </td><td>/games/home-a-unique-horror-adventure/pc-137135                       </td><td>PC                                                                    </td><td>6.5                                                                   </td><td>Adventure                                                             </td><td>N                                                                     </td><td>2012                                                                  </td><td>9                                                                     </td><td> 6                                                                    </td></tr>\n",
       "\t<tr><td>Great                                                                 </td><td>Avengers Initiative                                                   </td><td>/games/avengers-initiative/iphone-141579                              </td><td>iPhone                                                                </td><td>8.0                                                                   </td><td>Action                                                                </td><td>N                                                                     </td><td>2012                                                                  </td><td>9                                                                     </td><td> 5                                                                    </td></tr>\n",
       "\t<tr><td>Mediocre                                                              </td><td>Way of the Samurai 4                                                  </td><td>/games/way-of-the-samurai-4/ps3-23516                                 </td><td>PlayStation 3                                                         </td><td>5.5                                                                   </td><td>Action, Adventure                                                     </td><td>N                                                                     </td><td>2012                                                                  </td><td>9                                                                     </td><td> 3                                                                    </td></tr>\n",
       "\t<tr><td>Good                                                                  </td><td>JoJo's Bizarre Adventure HD                                           </td><td>/games/jojos-bizarre-adventure/xbox-360-137717                        </td><td>Xbox 360                                                              </td><td>7.0                                                                   </td><td>Fighting                                                              </td><td>N                                                                     </td><td>2012                                                                  </td><td>9                                                                     </td><td> 3                                                                    </td></tr>\n",
       "</tbody>\n",
       "</table>\n"
      ],
      "text/latex": [
       "\\begin{tabular}{r|llllllllll}\n",
       " score\\_phrase & title & url & platform & score & genre & editors\\_choice & release\\_year & release\\_month & release\\_day\\\\\n",
       "\\hline\n",
       "\t Amazing                                                                & LittleBigPlanet PS Vita                                                & /games/littlebigplanet-vita/vita-98907                                 & PlayStation Vita                                                       & 9.0                                                                    & Platformer                                                             & Y                                                                      & 2012                                                                   & 9                                                                      & 12                                                                    \\\\\n",
       "\t Amazing                                                                & LittleBigPlanet PS Vita -- Marvel Super Hero Edition                   & /games/littlebigplanet-ps-vita-marvel-super-hero-edition/vita-20027059 & PlayStation Vita                                                       & 9.0                                                                    & Platformer                                                             & Y                                                                      & 2012                                                                   & 9                                                                      & 12                                                                    \\\\\n",
       "\t Great                                                                  & Splice: Tree of Life                                                   & /games/splice/ipad-141070                                              & iPad                                                                   & 8.5                                                                    & Puzzle                                                                 & N                                                                      & 2012                                                                   & 9                                                                      & 12                                                                    \\\\\n",
       "\t Great                                                                  & NHL 13                                                                 & /games/nhl-13/xbox-360-128182                                          & Xbox 360                                                               & 8.5                                                                    & Sports                                                                 & N                                                                      & 2012                                                                   & 9                                                                      & 11                                                                    \\\\\n",
       "\t Great                                                                  & NHL 13                                                                 & /games/nhl-13/ps3-128181                                               & PlayStation 3                                                          & 8.5                                                                    & Sports                                                                 & N                                                                      & 2012                                                                   & 9                                                                      & 11                                                                    \\\\\n",
       "\t Good                                                                   & Total War Battles: Shogun                                              & /games/total-war-battles-shogun/mac-142565                             & Macintosh                                                              & 7.0                                                                    & Strategy                                                               & N                                                                      & 2012                                                                   & 9                                                                      & 11                                                                    \\\\\n",
       "\t Awful                                                                  & Double Dragon: Neon                                                    & /games/double-dragon-neon/xbox-360-131320                              & Xbox 360                                                               & 3.0                                                                    & Fighting                                                               & N                                                                      & 2012                                                                   & 9                                                                      & 11                                                                    \\\\\n",
       "\t Amazing                                                                & Guild Wars 2                                                           & /games/guild-wars-2/pc-896298                                          & PC                                                                     & 9.0                                                                    & RPG                                                                    & Y                                                                      & 2012                                                                   & 9                                                                      & 11                                                                    \\\\\n",
       "\t Awful                                                                  & Double Dragon: Neon                                                    & /games/double-dragon-neon/ps3-131321                                   & PlayStation 3                                                          & 3.0                                                                    & Fighting                                                               & N                                                                      & 2012                                                                   & 9                                                                      & 11                                                                    \\\\\n",
       "\t Good                                                                   & Total War Battles: Shogun                                              & /games/total-war-battles-shogun/pc-142564                              & PC                                                                     & 7.0                                                                    & Strategy                                                               & N                                                                      & 2012                                                                   & 9                                                                      & 11                                                                    \\\\\n",
       "\t Good                                                                   & Tekken Tag Tournament 2                                                & /games/tekken-tag-tournament-2/ps3-124584                              & PlayStation 3                                                          & 7.5                                                                    & Fighting                                                               & N                                                                      & 2012                                                                   & 9                                                                      & 11                                                                    \\\\\n",
       "\t Good                                                                   & Tekken Tag Tournament 2                                                & /games/tekken-tag-tournament-2/xbox-360-124581                         & Xbox 360                                                               & 7.5                                                                    & Fighting                                                               & N                                                                      & 2012                                                                   & 9                                                                      & 11                                                                    \\\\\n",
       "\t Good                                                                   & Wild Blood                                                             & /games/wild-blood/iphone-139363                                        & iPhone                                                                 & 7.0                                                                    & NA                                                                     & N                                                                      & 2012                                                                   & 9                                                                      & 10                                                                    \\\\\n",
       "\t Amazing                                                                & Mark of the Ninja                                                      & /games/mark-of-the-ninja-135615/xbox-360-129276                        & Xbox 360                                                               & 9.0                                                                    & Action, Adventure                                                      & Y                                                                      & 2012                                                                   & 9                                                                      &  7                                                                    \\\\\n",
       "\t Amazing                                                                & Mark of the Ninja                                                      & /games/mark-of-the-ninja-135615/pc-143761                              & PC                                                                     & 9.0                                                                    & Action, Adventure                                                      & Y                                                                      & 2012                                                                   & 9                                                                      &  7                                                                    \\\\\n",
       "\t Okay                                                                   & Home: A Unique Horror Adventure                                        & /games/home-a-unique-horror-adventure/mac-20014750                     & Macintosh                                                              & 6.5                                                                    & Adventure                                                              & N                                                                      & 2012                                                                   & 9                                                                      &  6                                                                    \\\\\n",
       "\t Okay                                                                   & Home: A Unique Horror Adventure                                        & /games/home-a-unique-horror-adventure/pc-137135                        & PC                                                                     & 6.5                                                                    & Adventure                                                              & N                                                                      & 2012                                                                   & 9                                                                      &  6                                                                    \\\\\n",
       "\t Great                                                                  & Avengers Initiative                                                    & /games/avengers-initiative/iphone-141579                               & iPhone                                                                 & 8.0                                                                    & Action                                                                 & N                                                                      & 2012                                                                   & 9                                                                      &  5                                                                    \\\\\n",
       "\t Mediocre                                                               & Way of the Samurai 4                                                   & /games/way-of-the-samurai-4/ps3-23516                                  & PlayStation 3                                                          & 5.5                                                                    & Action, Adventure                                                      & N                                                                      & 2012                                                                   & 9                                                                      &  3                                                                    \\\\\n",
       "\t Good                                                                   & JoJo's Bizarre Adventure HD                                            & /games/jojos-bizarre-adventure/xbox-360-137717                         & Xbox 360                                                               & 7.0                                                                    & Fighting                                                               & N                                                                      & 2012                                                                   & 9                                                                      &  3                                                                    \\\\\n",
       "\\end{tabular}\n"
      ],
      "text/markdown": [
       "\n",
       "score_phrase | title | url | platform | score | genre | editors_choice | release_year | release_month | release_day | \n",
       "|---|---|---|---|---|---|---|---|---|---|---|---|---|---|---|---|---|---|---|---|\n",
       "| Amazing                                                                | LittleBigPlanet PS Vita                                                | /games/littlebigplanet-vita/vita-98907                                 | PlayStation Vita                                                       | 9.0                                                                    | Platformer                                                             | Y                                                                      | 2012                                                                   | 9                                                                      | 12                                                                     | \n",
       "| Amazing                                                                | LittleBigPlanet PS Vita -- Marvel Super Hero Edition                   | /games/littlebigplanet-ps-vita-marvel-super-hero-edition/vita-20027059 | PlayStation Vita                                                       | 9.0                                                                    | Platformer                                                             | Y                                                                      | 2012                                                                   | 9                                                                      | 12                                                                     | \n",
       "| Great                                                                  | Splice: Tree of Life                                                   | /games/splice/ipad-141070                                              | iPad                                                                   | 8.5                                                                    | Puzzle                                                                 | N                                                                      | 2012                                                                   | 9                                                                      | 12                                                                     | \n",
       "| Great                                                                  | NHL 13                                                                 | /games/nhl-13/xbox-360-128182                                          | Xbox 360                                                               | 8.5                                                                    | Sports                                                                 | N                                                                      | 2012                                                                   | 9                                                                      | 11                                                                     | \n",
       "| Great                                                                  | NHL 13                                                                 | /games/nhl-13/ps3-128181                                               | PlayStation 3                                                          | 8.5                                                                    | Sports                                                                 | N                                                                      | 2012                                                                   | 9                                                                      | 11                                                                     | \n",
       "| Good                                                                   | Total War Battles: Shogun                                              | /games/total-war-battles-shogun/mac-142565                             | Macintosh                                                              | 7.0                                                                    | Strategy                                                               | N                                                                      | 2012                                                                   | 9                                                                      | 11                                                                     | \n",
       "| Awful                                                                  | Double Dragon: Neon                                                    | /games/double-dragon-neon/xbox-360-131320                              | Xbox 360                                                               | 3.0                                                                    | Fighting                                                               | N                                                                      | 2012                                                                   | 9                                                                      | 11                                                                     | \n",
       "| Amazing                                                                | Guild Wars 2                                                           | /games/guild-wars-2/pc-896298                                          | PC                                                                     | 9.0                                                                    | RPG                                                                    | Y                                                                      | 2012                                                                   | 9                                                                      | 11                                                                     | \n",
       "| Awful                                                                  | Double Dragon: Neon                                                    | /games/double-dragon-neon/ps3-131321                                   | PlayStation 3                                                          | 3.0                                                                    | Fighting                                                               | N                                                                      | 2012                                                                   | 9                                                                      | 11                                                                     | \n",
       "| Good                                                                   | Total War Battles: Shogun                                              | /games/total-war-battles-shogun/pc-142564                              | PC                                                                     | 7.0                                                                    | Strategy                                                               | N                                                                      | 2012                                                                   | 9                                                                      | 11                                                                     | \n",
       "| Good                                                                   | Tekken Tag Tournament 2                                                | /games/tekken-tag-tournament-2/ps3-124584                              | PlayStation 3                                                          | 7.5                                                                    | Fighting                                                               | N                                                                      | 2012                                                                   | 9                                                                      | 11                                                                     | \n",
       "| Good                                                                   | Tekken Tag Tournament 2                                                | /games/tekken-tag-tournament-2/xbox-360-124581                         | Xbox 360                                                               | 7.5                                                                    | Fighting                                                               | N                                                                      | 2012                                                                   | 9                                                                      | 11                                                                     | \n",
       "| Good                                                                   | Wild Blood                                                             | /games/wild-blood/iphone-139363                                        | iPhone                                                                 | 7.0                                                                    | NA                                                                     | N                                                                      | 2012                                                                   | 9                                                                      | 10                                                                     | \n",
       "| Amazing                                                                | Mark of the Ninja                                                      | /games/mark-of-the-ninja-135615/xbox-360-129276                        | Xbox 360                                                               | 9.0                                                                    | Action, Adventure                                                      | Y                                                                      | 2012                                                                   | 9                                                                      |  7                                                                     | \n",
       "| Amazing                                                                | Mark of the Ninja                                                      | /games/mark-of-the-ninja-135615/pc-143761                              | PC                                                                     | 9.0                                                                    | Action, Adventure                                                      | Y                                                                      | 2012                                                                   | 9                                                                      |  7                                                                     | \n",
       "| Okay                                                                   | Home: A Unique Horror Adventure                                        | /games/home-a-unique-horror-adventure/mac-20014750                     | Macintosh                                                              | 6.5                                                                    | Adventure                                                              | N                                                                      | 2012                                                                   | 9                                                                      |  6                                                                     | \n",
       "| Okay                                                                   | Home: A Unique Horror Adventure                                        | /games/home-a-unique-horror-adventure/pc-137135                        | PC                                                                     | 6.5                                                                    | Adventure                                                              | N                                                                      | 2012                                                                   | 9                                                                      |  6                                                                     | \n",
       "| Great                                                                  | Avengers Initiative                                                    | /games/avengers-initiative/iphone-141579                               | iPhone                                                                 | 8.0                                                                    | Action                                                                 | N                                                                      | 2012                                                                   | 9                                                                      |  5                                                                     | \n",
       "| Mediocre                                                               | Way of the Samurai 4                                                   | /games/way-of-the-samurai-4/ps3-23516                                  | PlayStation 3                                                          | 5.5                                                                    | Action, Adventure                                                      | N                                                                      | 2012                                                                   | 9                                                                      |  3                                                                     | \n",
       "| Good                                                                   | JoJo's Bizarre Adventure HD                                            | /games/jojos-bizarre-adventure/xbox-360-137717                         | Xbox 360                                                               | 7.0                                                                    | Fighting                                                               | N                                                                      | 2012                                                                   | 9                                                                      |  3                                                                     | \n",
       "\n",
       "\n"
      ],
      "text/plain": [
       "   score_phrase title                                               \n",
       "1  Amazing      LittleBigPlanet PS Vita                             \n",
       "2  Amazing      LittleBigPlanet PS Vita -- Marvel Super Hero Edition\n",
       "3  Great        Splice: Tree of Life                                \n",
       "4  Great        NHL 13                                              \n",
       "5  Great        NHL 13                                              \n",
       "6  Good         Total War Battles: Shogun                           \n",
       "7  Awful        Double Dragon: Neon                                 \n",
       "8  Amazing      Guild Wars 2                                        \n",
       "9  Awful        Double Dragon: Neon                                 \n",
       "10 Good         Total War Battles: Shogun                           \n",
       "11 Good         Tekken Tag Tournament 2                             \n",
       "12 Good         Tekken Tag Tournament 2                             \n",
       "13 Good         Wild Blood                                          \n",
       "14 Amazing      Mark of the Ninja                                   \n",
       "15 Amazing      Mark of the Ninja                                   \n",
       "16 Okay         Home: A Unique Horror Adventure                     \n",
       "17 Okay         Home: A Unique Horror Adventure                     \n",
       "18 Great        Avengers Initiative                                 \n",
       "19 Mediocre     Way of the Samurai 4                                \n",
       "20 Good         JoJo's Bizarre Adventure HD                         \n",
       "   url                                                                   \n",
       "1  /games/littlebigplanet-vita/vita-98907                                \n",
       "2  /games/littlebigplanet-ps-vita-marvel-super-hero-edition/vita-20027059\n",
       "3  /games/splice/ipad-141070                                             \n",
       "4  /games/nhl-13/xbox-360-128182                                         \n",
       "5  /games/nhl-13/ps3-128181                                              \n",
       "6  /games/total-war-battles-shogun/mac-142565                            \n",
       "7  /games/double-dragon-neon/xbox-360-131320                             \n",
       "8  /games/guild-wars-2/pc-896298                                         \n",
       "9  /games/double-dragon-neon/ps3-131321                                  \n",
       "10 /games/total-war-battles-shogun/pc-142564                             \n",
       "11 /games/tekken-tag-tournament-2/ps3-124584                             \n",
       "12 /games/tekken-tag-tournament-2/xbox-360-124581                        \n",
       "13 /games/wild-blood/iphone-139363                                       \n",
       "14 /games/mark-of-the-ninja-135615/xbox-360-129276                       \n",
       "15 /games/mark-of-the-ninja-135615/pc-143761                             \n",
       "16 /games/home-a-unique-horror-adventure/mac-20014750                    \n",
       "17 /games/home-a-unique-horror-adventure/pc-137135                       \n",
       "18 /games/avengers-initiative/iphone-141579                              \n",
       "19 /games/way-of-the-samurai-4/ps3-23516                                 \n",
       "20 /games/jojos-bizarre-adventure/xbox-360-137717                        \n",
       "   platform         score genre             editors_choice release_year\n",
       "1  PlayStation Vita 9.0   Platformer        Y              2012        \n",
       "2  PlayStation Vita 9.0   Platformer        Y              2012        \n",
       "3  iPad             8.5   Puzzle            N              2012        \n",
       "4  Xbox 360         8.5   Sports            N              2012        \n",
       "5  PlayStation 3    8.5   Sports            N              2012        \n",
       "6  Macintosh        7.0   Strategy          N              2012        \n",
       "7  Xbox 360         3.0   Fighting          N              2012        \n",
       "8  PC               9.0   RPG               Y              2012        \n",
       "9  PlayStation 3    3.0   Fighting          N              2012        \n",
       "10 PC               7.0   Strategy          N              2012        \n",
       "11 PlayStation 3    7.5   Fighting          N              2012        \n",
       "12 Xbox 360         7.5   Fighting          N              2012        \n",
       "13 iPhone           7.0   NA                N              2012        \n",
       "14 Xbox 360         9.0   Action, Adventure Y              2012        \n",
       "15 PC               9.0   Action, Adventure Y              2012        \n",
       "16 Macintosh        6.5   Adventure         N              2012        \n",
       "17 PC               6.5   Adventure         N              2012        \n",
       "18 iPhone           8.0   Action            N              2012        \n",
       "19 PlayStation 3    5.5   Action, Adventure N              2012        \n",
       "20 Xbox 360         7.0   Fighting          N              2012        \n",
       "   release_month release_day\n",
       "1  9             12         \n",
       "2  9             12         \n",
       "3  9             12         \n",
       "4  9             11         \n",
       "5  9             11         \n",
       "6  9             11         \n",
       "7  9             11         \n",
       "8  9             11         \n",
       "9  9             11         \n",
       "10 9             11         \n",
       "11 9             11         \n",
       "12 9             11         \n",
       "13 9             10         \n",
       "14 9              7         \n",
       "15 9              7         \n",
       "16 9              6         \n",
       "17 9              6         \n",
       "18 9              5         \n",
       "19 9              3         \n",
       "20 9              3         "
      ]
     },
     "metadata": {},
     "output_type": "display_data"
    }
   ],
   "source": [
    "# look at just the first 20 rows\n",
    "ign_data[1:20,]"
   ]
  },
  {
   "cell_type": "markdown",
   "metadata": {
    "_cell_guid": "91d463f9-3251-4fc2-9e4a-f2655a58f9f4",
    "_uuid": "158d6fca09cfde465c7d657cfe4c50cbe1516ad2"
   },
   "source": [
    "As you can see, we have a lot of rows that are *almost* the same. Let's see how many of them `dedup()` can catch."
   ]
  },
  {
   "cell_type": "code",
   "execution_count": 24,
   "metadata": {
    "_cell_guid": "ca76a03a-1e58-4e0b-8964-baa15d003319",
    "_uuid": "0942107294b902692424e65fa34182901a122d8a"
   },
   "outputs": [
    {
     "data": {
      "text/html": [
       "<table>\n",
       "<tbody>\n",
       "\t<tr><th scope=row>score_phrase</th><td>Good                                           </td><td>Okay                                           </td></tr>\n",
       "\t<tr><th scope=row>title</th><td>Total War Battles: Shogun                      </td><td>Home: A Unique Horror Adventure                </td></tr>\n",
       "\t<tr><th scope=row>url</th><td>/games/total-war-battles-shogun/pc-142564      </td><td>/games/home-a-unique-horror-adventure/pc-137135</td></tr>\n",
       "\t<tr><th scope=row>platform</th><td>PC                                             </td><td>PC                                             </td></tr>\n",
       "\t<tr><th scope=row>score</th><td>7.0                                            </td><td>6.5                                            </td></tr>\n",
       "\t<tr><th scope=row>genre</th><td>Strategy                                       </td><td>Adventure                                      </td></tr>\n",
       "\t<tr><th scope=row>editors_choice</th><td>N                                              </td><td>N                                              </td></tr>\n",
       "\t<tr><th scope=row>release_year</th><td>2012                                           </td><td>2012                                           </td></tr>\n",
       "\t<tr><th scope=row>release_month</th><td>9                                              </td><td>9                                              </td></tr>\n",
       "\t<tr><th scope=row>release_day</th><td>11                                             </td><td> 6                                             </td></tr>\n",
       "</tbody>\n",
       "</table>\n"
      ],
      "text/latex": [
       "\\begin{tabular}{r|ll}\n",
       "\tscore\\_phrase & Good                                            & Okay                                           \\\\\n",
       "\ttitle & Total War Battles: Shogun                       & Home: A Unique Horror Adventure                \\\\\n",
       "\turl & /games/total-war-battles-shogun/pc-142564       & /games/home-a-unique-horror-adventure/pc-137135\\\\\n",
       "\tplatform & PC                                              & PC                                             \\\\\n",
       "\tscore & 7.0                                             & 6.5                                            \\\\\n",
       "\tgenre & Strategy                                        & Adventure                                      \\\\\n",
       "\teditors\\_choice & N                                               & N                                              \\\\\n",
       "\trelease\\_year & 2012                                            & 2012                                           \\\\\n",
       "\trelease\\_month & 9                                               & 9                                              \\\\\n",
       "\trelease\\_day & 11                                              &  6                                             \\\\\n",
       "\\end{tabular}\n"
      ],
      "text/markdown": [
       "\n",
       "| score_phrase | Good                                            | Okay                                            | \n",
       "| title | Total War Battles: Shogun                       | Home: A Unique Horror Adventure                 | \n",
       "| url | /games/total-war-battles-shogun/pc-142564       | /games/home-a-unique-horror-adventure/pc-137135 | \n",
       "| platform | PC                                              | PC                                              | \n",
       "| score | 7.0                                             | 6.5                                             | \n",
       "| genre | Strategy                                        | Adventure                                       | \n",
       "| editors_choice | N                                               | N                                               | \n",
       "| release_year | 2012                                            | 2012                                            | \n",
       "| release_month | 9                                               | 9                                               | \n",
       "| release_day | 11                                              |  6                                              | \n",
       "\n",
       "\n"
      ],
      "text/plain": [
       "               [,1]                                     \n",
       "score_phrase   Good                                     \n",
       "title          Total War Battles: Shogun                \n",
       "url            /games/total-war-battles-shogun/pc-142564\n",
       "platform       PC                                       \n",
       "score          7.0                                      \n",
       "genre          Strategy                                 \n",
       "editors_choice N                                        \n",
       "release_year   2012                                     \n",
       "release_month  9                                        \n",
       "release_day    11                                       \n",
       "               [,2]                                           \n",
       "score_phrase   Okay                                           \n",
       "title          Home: A Unique Horror Adventure                \n",
       "url            /games/home-a-unique-horror-adventure/pc-137135\n",
       "platform       PC                                             \n",
       "score          6.5                                            \n",
       "genre          Adventure                                      \n",
       "editors_choice N                                              \n",
       "release_year   2012                                           \n",
       "release_month  9                                              \n",
       "release_day     6                                             "
      ]
     },
     "metadata": {},
     "output_type": "display_data"
    }
   ],
   "source": [
    "# automatically remove duplicated values, including partials\n",
    "ign_data_deduped <- ign_data[1:20,] %>%\n",
    "    dedup()\n",
    "\n",
    "# see duplicate records\n",
    "t(attr(ign_data_deduped, \"dups\"))"
   ]
  },
  {
   "cell_type": "markdown",
   "metadata": {
    "_cell_guid": "c0b9c8d4-b9b6-4148-af4b-621582bbdf45",
    "_uuid": "82085f9ef467e730e64e91d9feed10910298ee9b"
   },
   "source": [
    "So we are seeing some partial matches, but not all of them. This is partly because the default tolerance argument for `dedup()` is pretty high (0.9), so it's not picking out all the possible partial matches. Lower tolerance will identify more records are duplicates and higher tolerance will identify fewer.\n",
    "\n",
    "> [**Tolerance**: Score (0 to 1) at which to determine a match. You’ll want to inspect outputs closely to tweak this value based on your data, as results can vary.](https://cran.r-project.org/web/packages/scrubr/scrubr.pdf)\n",
    "\n",
    "Let's try again with a lower tolerance and see if we can catch more partial matches:"
   ]
  },
  {
   "cell_type": "code",
   "execution_count": 26,
   "metadata": {
    "_cell_guid": "f779520f-aceb-4911-89b2-429ed0af5f3c",
    "_uuid": "197de5a26080c4f70f05e0a5b4d080caeb211335"
   },
   "outputs": [
    {
     "data": {
      "text/html": [
       "<table>\n",
       "<thead><tr><th scope=col>score_phrase</th><th scope=col>title</th><th scope=col>url</th><th scope=col>platform</th><th scope=col>score</th><th scope=col>genre</th><th scope=col>editors_choice</th><th scope=col>release_year</th><th scope=col>release_month</th><th scope=col>release_day</th></tr></thead>\n",
       "<tbody>\n",
       "\t<tr><td>Amazing                                                               </td><td>LittleBigPlanet PS Vita -- Marvel Super Hero Edition                  </td><td>/games/littlebigplanet-ps-vita-marvel-super-hero-edition/vita-20027059</td><td>PlayStation Vita                                                      </td><td>9.0                                                                   </td><td>Platformer                                                            </td><td>Y                                                                     </td><td>2012                                                                  </td><td>9                                                                     </td><td>12                                                                    </td></tr>\n",
       "\t<tr><td>Great                                                                 </td><td>NHL 13                                                                </td><td>/games/nhl-13/ps3-128181                                              </td><td>PlayStation 3                                                         </td><td>8.5                                                                   </td><td>Sports                                                                </td><td>N                                                                     </td><td>2012                                                                  </td><td>9                                                                     </td><td>11                                                                    </td></tr>\n",
       "\t<tr><td>Good                                                                  </td><td>Tekken Tag Tournament 2                                               </td><td>/games/tekken-tag-tournament-2/xbox-360-124581                        </td><td>Xbox 360                                                              </td><td>7.5                                                                   </td><td>Fighting                                                              </td><td>N                                                                     </td><td>2012                                                                  </td><td>9                                                                     </td><td>11                                                                    </td></tr>\n",
       "\t<tr><td>Good                                                                  </td><td>Total War Battles: Shogun                                             </td><td>/games/total-war-battles-shogun/pc-142564                             </td><td>PC                                                                    </td><td>7.0                                                                   </td><td>Strategy                                                              </td><td>N                                                                     </td><td>2012                                                                  </td><td>9                                                                     </td><td>11                                                                    </td></tr>\n",
       "\t<tr><td>Awful                                                                 </td><td>Double Dragon: Neon                                                   </td><td>/games/double-dragon-neon/ps3-131321                                  </td><td>PlayStation 3                                                         </td><td>3.0                                                                   </td><td>Fighting                                                              </td><td>N                                                                     </td><td>2012                                                                  </td><td>9                                                                     </td><td>11                                                                    </td></tr>\n",
       "\t<tr><td>Good                                                                  </td><td>Tekken Tag Tournament 2                                               </td><td>/games/tekken-tag-tournament-2/xbox-360-124581                        </td><td>Xbox 360                                                              </td><td>7.5                                                                   </td><td>Fighting                                                              </td><td>N                                                                     </td><td>2012                                                                  </td><td>9                                                                     </td><td>11                                                                    </td></tr>\n",
       "\t<tr><td>Good                                                                  </td><td>JoJo's Bizarre Adventure HD                                           </td><td>/games/jojos-bizarre-adventure/xbox-360-137717                        </td><td>Xbox 360                                                              </td><td>7.0                                                                   </td><td>Fighting                                                              </td><td>N                                                                     </td><td>2012                                                                  </td><td>9                                                                     </td><td> 3                                                                    </td></tr>\n",
       "\t<tr><td>Amazing                                                               </td><td>Mark of the Ninja                                                     </td><td>/games/mark-of-the-ninja-135615/pc-143761                             </td><td>PC                                                                    </td><td>9.0                                                                   </td><td>Action, Adventure                                                     </td><td>Y                                                                     </td><td>2012                                                                  </td><td>9                                                                     </td><td> 7                                                                    </td></tr>\n",
       "\t<tr><td>Good                                                                  </td><td>JoJo's Bizarre Adventure HD                                           </td><td>/games/jojos-bizarre-adventure/xbox-360-137717                        </td><td>Xbox 360                                                              </td><td>7.0                                                                   </td><td>Fighting                                                              </td><td>N                                                                     </td><td>2012                                                                  </td><td>9                                                                     </td><td> 3                                                                    </td></tr>\n",
       "\t<tr><td>Okay                                                                  </td><td>Home: A Unique Horror Adventure                                       </td><td>/games/home-a-unique-horror-adventure/pc-137135                       </td><td>PC                                                                    </td><td>6.5                                                                   </td><td>Adventure                                                             </td><td>N                                                                     </td><td>2012                                                                  </td><td>9                                                                     </td><td> 6                                                                    </td></tr>\n",
       "</tbody>\n",
       "</table>\n"
      ],
      "text/latex": [
       "\\begin{tabular}{r|llllllllll}\n",
       " score\\_phrase & title & url & platform & score & genre & editors\\_choice & release\\_year & release\\_month & release\\_day\\\\\n",
       "\\hline\n",
       "\t Amazing                                                                & LittleBigPlanet PS Vita -- Marvel Super Hero Edition                   & /games/littlebigplanet-ps-vita-marvel-super-hero-edition/vita-20027059 & PlayStation Vita                                                       & 9.0                                                                    & Platformer                                                             & Y                                                                      & 2012                                                                   & 9                                                                      & 12                                                                    \\\\\n",
       "\t Great                                                                  & NHL 13                                                                 & /games/nhl-13/ps3-128181                                               & PlayStation 3                                                          & 8.5                                                                    & Sports                                                                 & N                                                                      & 2012                                                                   & 9                                                                      & 11                                                                    \\\\\n",
       "\t Good                                                                   & Tekken Tag Tournament 2                                                & /games/tekken-tag-tournament-2/xbox-360-124581                         & Xbox 360                                                               & 7.5                                                                    & Fighting                                                               & N                                                                      & 2012                                                                   & 9                                                                      & 11                                                                    \\\\\n",
       "\t Good                                                                   & Total War Battles: Shogun                                              & /games/total-war-battles-shogun/pc-142564                              & PC                                                                     & 7.0                                                                    & Strategy                                                               & N                                                                      & 2012                                                                   & 9                                                                      & 11                                                                    \\\\\n",
       "\t Awful                                                                  & Double Dragon: Neon                                                    & /games/double-dragon-neon/ps3-131321                                   & PlayStation 3                                                          & 3.0                                                                    & Fighting                                                               & N                                                                      & 2012                                                                   & 9                                                                      & 11                                                                    \\\\\n",
       "\t Good                                                                   & Tekken Tag Tournament 2                                                & /games/tekken-tag-tournament-2/xbox-360-124581                         & Xbox 360                                                               & 7.5                                                                    & Fighting                                                               & N                                                                      & 2012                                                                   & 9                                                                      & 11                                                                    \\\\\n",
       "\t Good                                                                   & JoJo's Bizarre Adventure HD                                            & /games/jojos-bizarre-adventure/xbox-360-137717                         & Xbox 360                                                               & 7.0                                                                    & Fighting                                                               & N                                                                      & 2012                                                                   & 9                                                                      &  3                                                                    \\\\\n",
       "\t Amazing                                                                & Mark of the Ninja                                                      & /games/mark-of-the-ninja-135615/pc-143761                              & PC                                                                     & 9.0                                                                    & Action, Adventure                                                      & Y                                                                      & 2012                                                                   & 9                                                                      &  7                                                                    \\\\\n",
       "\t Good                                                                   & JoJo's Bizarre Adventure HD                                            & /games/jojos-bizarre-adventure/xbox-360-137717                         & Xbox 360                                                               & 7.0                                                                    & Fighting                                                               & N                                                                      & 2012                                                                   & 9                                                                      &  3                                                                    \\\\\n",
       "\t Okay                                                                   & Home: A Unique Horror Adventure                                        & /games/home-a-unique-horror-adventure/pc-137135                        & PC                                                                     & 6.5                                                                    & Adventure                                                              & N                                                                      & 2012                                                                   & 9                                                                      &  6                                                                    \\\\\n",
       "\\end{tabular}\n"
      ],
      "text/markdown": [
       "\n",
       "score_phrase | title | url | platform | score | genre | editors_choice | release_year | release_month | release_day | \n",
       "|---|---|---|---|---|---|---|---|---|---|\n",
       "| Amazing                                                                | LittleBigPlanet PS Vita -- Marvel Super Hero Edition                   | /games/littlebigplanet-ps-vita-marvel-super-hero-edition/vita-20027059 | PlayStation Vita                                                       | 9.0                                                                    | Platformer                                                             | Y                                                                      | 2012                                                                   | 9                                                                      | 12                                                                     | \n",
       "| Great                                                                  | NHL 13                                                                 | /games/nhl-13/ps3-128181                                               | PlayStation 3                                                          | 8.5                                                                    | Sports                                                                 | N                                                                      | 2012                                                                   | 9                                                                      | 11                                                                     | \n",
       "| Good                                                                   | Tekken Tag Tournament 2                                                | /games/tekken-tag-tournament-2/xbox-360-124581                         | Xbox 360                                                               | 7.5                                                                    | Fighting                                                               | N                                                                      | 2012                                                                   | 9                                                                      | 11                                                                     | \n",
       "| Good                                                                   | Total War Battles: Shogun                                              | /games/total-war-battles-shogun/pc-142564                              | PC                                                                     | 7.0                                                                    | Strategy                                                               | N                                                                      | 2012                                                                   | 9                                                                      | 11                                                                     | \n",
       "| Awful                                                                  | Double Dragon: Neon                                                    | /games/double-dragon-neon/ps3-131321                                   | PlayStation 3                                                          | 3.0                                                                    | Fighting                                                               | N                                                                      | 2012                                                                   | 9                                                                      | 11                                                                     | \n",
       "| Good                                                                   | Tekken Tag Tournament 2                                                | /games/tekken-tag-tournament-2/xbox-360-124581                         | Xbox 360                                                               | 7.5                                                                    | Fighting                                                               | N                                                                      | 2012                                                                   | 9                                                                      | 11                                                                     | \n",
       "| Good                                                                   | JoJo's Bizarre Adventure HD                                            | /games/jojos-bizarre-adventure/xbox-360-137717                         | Xbox 360                                                               | 7.0                                                                    | Fighting                                                               | N                                                                      | 2012                                                                   | 9                                                                      |  3                                                                     | \n",
       "| Amazing                                                                | Mark of the Ninja                                                      | /games/mark-of-the-ninja-135615/pc-143761                              | PC                                                                     | 9.0                                                                    | Action, Adventure                                                      | Y                                                                      | 2012                                                                   | 9                                                                      |  7                                                                     | \n",
       "| Good                                                                   | JoJo's Bizarre Adventure HD                                            | /games/jojos-bizarre-adventure/xbox-360-137717                         | Xbox 360                                                               | 7.0                                                                    | Fighting                                                               | N                                                                      | 2012                                                                   | 9                                                                      |  3                                                                     | \n",
       "| Okay                                                                   | Home: A Unique Horror Adventure                                        | /games/home-a-unique-horror-adventure/pc-137135                        | PC                                                                     | 6.5                                                                    | Adventure                                                              | N                                                                      | 2012                                                                   | 9                                                                      |  6                                                                     | \n",
       "\n",
       "\n"
      ],
      "text/plain": [
       "   score_phrase title                                               \n",
       "1  Amazing      LittleBigPlanet PS Vita -- Marvel Super Hero Edition\n",
       "2  Great        NHL 13                                              \n",
       "3  Good         Tekken Tag Tournament 2                             \n",
       "4  Good         Total War Battles: Shogun                           \n",
       "5  Awful        Double Dragon: Neon                                 \n",
       "6  Good         Tekken Tag Tournament 2                             \n",
       "7  Good         JoJo's Bizarre Adventure HD                         \n",
       "8  Amazing      Mark of the Ninja                                   \n",
       "9  Good         JoJo's Bizarre Adventure HD                         \n",
       "10 Okay         Home: A Unique Horror Adventure                     \n",
       "   url                                                                   \n",
       "1  /games/littlebigplanet-ps-vita-marvel-super-hero-edition/vita-20027059\n",
       "2  /games/nhl-13/ps3-128181                                              \n",
       "3  /games/tekken-tag-tournament-2/xbox-360-124581                        \n",
       "4  /games/total-war-battles-shogun/pc-142564                             \n",
       "5  /games/double-dragon-neon/ps3-131321                                  \n",
       "6  /games/tekken-tag-tournament-2/xbox-360-124581                        \n",
       "7  /games/jojos-bizarre-adventure/xbox-360-137717                        \n",
       "8  /games/mark-of-the-ninja-135615/pc-143761                             \n",
       "9  /games/jojos-bizarre-adventure/xbox-360-137717                        \n",
       "10 /games/home-a-unique-horror-adventure/pc-137135                       \n",
       "   platform         score genre             editors_choice release_year\n",
       "1  PlayStation Vita 9.0   Platformer        Y              2012        \n",
       "2  PlayStation 3    8.5   Sports            N              2012        \n",
       "3  Xbox 360         7.5   Fighting          N              2012        \n",
       "4  PC               7.0   Strategy          N              2012        \n",
       "5  PlayStation 3    3.0   Fighting          N              2012        \n",
       "6  Xbox 360         7.5   Fighting          N              2012        \n",
       "7  Xbox 360         7.0   Fighting          N              2012        \n",
       "8  PC               9.0   Action, Adventure Y              2012        \n",
       "9  Xbox 360         7.0   Fighting          N              2012        \n",
       "10 PC               6.5   Adventure         N              2012        \n",
       "   release_month release_day\n",
       "1  9             12         \n",
       "2  9             11         \n",
       "3  9             11         \n",
       "4  9             11         \n",
       "5  9             11         \n",
       "6  9             11         \n",
       "7  9              3         \n",
       "8  9              7         \n",
       "9  9              3         \n",
       "10 9              6         "
      ]
     },
     "metadata": {},
     "output_type": "display_data"
    }
   ],
   "source": [
    "# automatically remove duplicated values, including partials\n",
    "ign_data_deduped <- ign_data[1:20,] %>%\n",
    "    dedup(tolerance = 0.5)\n",
    "\n",
    "# see duplicate records\n",
    "attr(ign_data_deduped, \"dups\")"
   ]
  },
  {
   "cell_type": "markdown",
   "metadata": {
    "_cell_guid": "d6a064e1-6e72-499a-a46d-abc8ad2c2b3b",
    "_uuid": "d95b2aeedfa3abb2e69eaabd9679cf3345be37c4"
   },
   "source": [
    "That looks much better to me! From here on, I can just use the `ign_data_deduped` dataframe when working with my data. "
   ]
  },
  {
   "cell_type": "markdown",
   "metadata": {
    "_cell_guid": "7587d4c8-240d-4446-b848-26d6efb7be1a",
    "_uuid": "a901baf04550de2fa9492c17c42f1566ab31003a"
   },
   "source": [
    "## Your turn!\n",
    "___\n",
    "\n",
    "Are there any exact duplicates in the `video_games` dataset? If so, try removing them.\n",
    "\n",
    "Then try removing partial duplicates using `dedup()`.  Try adjusting the tolerance. If you're feeling very ambitious, try recording & graphing how different tolerance values map to the number of duplicates detected and removed."
   ]
  },
  {
   "cell_type": "code",
   "execution_count": 27,
   "metadata": {
    "_cell_guid": "9feaffc7-b992-4ea2-968a-ff3c39561e15",
    "_uuid": "02bbcbb5ff2e55dbe5f47bff3781c8e743b3705f"
   },
   "outputs": [
    {
     "data": {
      "text/html": [
       "<table>\n",
       "<thead><tr><th scope=col>user_id</th><th scope=col>game_title</th><th scope=col>behavior_name</th><th scope=col>value</th></tr></thead>\n",
       "<tbody>\n",
       "\t<tr><td>151603712                 </td><td>The Elder Scrolls V Skyrim</td><td>purchase                  </td><td>  1.0                     </td></tr>\n",
       "\t<tr><td>151603712                 </td><td>The Elder Scrolls V Skyrim</td><td>play                      </td><td>273.0                     </td></tr>\n",
       "\t<tr><td>151603712                 </td><td>Fallout 4                 </td><td>purchase                  </td><td>  1.0                     </td></tr>\n",
       "\t<tr><td>151603712                 </td><td>Fallout 4                 </td><td>play                      </td><td> 87.0                     </td></tr>\n",
       "\t<tr><td>151603712                 </td><td>Spore                     </td><td>purchase                  </td><td>  1.0                     </td></tr>\n",
       "\t<tr><td>151603712                 </td><td>Spore                     </td><td>play                      </td><td> 14.9                     </td></tr>\n",
       "\t<tr><td>151603712                 </td><td>Fallout New Vegas         </td><td>purchase                  </td><td>  1.0                     </td></tr>\n",
       "\t<tr><td>151603712                 </td><td>Fallout New Vegas         </td><td>play                      </td><td> 12.1                     </td></tr>\n",
       "\t<tr><td>151603712                 </td><td>Left 4 Dead 2             </td><td>purchase                  </td><td>  1.0                     </td></tr>\n",
       "\t<tr><td>151603712                 </td><td>Left 4 Dead 2             </td><td>play                      </td><td>  8.9                     </td></tr>\n",
       "\t<tr><td>151603712                 </td><td>HuniePop                  </td><td>purchase                  </td><td>  1.0                     </td></tr>\n",
       "\t<tr><td>151603712                 </td><td>HuniePop                  </td><td>play                      </td><td>  8.5                     </td></tr>\n",
       "\t<tr><td>151603712                 </td><td>Path of Exile             </td><td>purchase                  </td><td>  1.0                     </td></tr>\n",
       "\t<tr><td>151603712                 </td><td>Path of Exile             </td><td>play                      </td><td>  8.1                     </td></tr>\n",
       "\t<tr><td>151603712                 </td><td>Poly Bridge               </td><td>purchase                  </td><td>  1.0                     </td></tr>\n",
       "\t<tr><td>151603712                 </td><td>Poly Bridge               </td><td>play                      </td><td>  7.5                     </td></tr>\n",
       "\t<tr><td>151603712                 </td><td>Left 4 Dead               </td><td>purchase                  </td><td>  1.0                     </td></tr>\n",
       "\t<tr><td>151603712                 </td><td>Left 4 Dead               </td><td>play                      </td><td>  3.3                     </td></tr>\n",
       "\t<tr><td>151603712                 </td><td>Team Fortress 2           </td><td>purchase                  </td><td>  1.0                     </td></tr>\n",
       "\t<tr><td>151603712                 </td><td>Team Fortress 2           </td><td>play                      </td><td>  2.8                     </td></tr>\n",
       "</tbody>\n",
       "</table>\n"
      ],
      "text/latex": [
       "\\begin{tabular}{r|llll}\n",
       " user\\_id & game\\_title & behavior\\_name & value\\\\\n",
       "\\hline\n",
       "\t 151603712                  & The Elder Scrolls V Skyrim & purchase                   &   1.0                     \\\\\n",
       "\t 151603712                  & The Elder Scrolls V Skyrim & play                       & 273.0                     \\\\\n",
       "\t 151603712                  & Fallout 4                  & purchase                   &   1.0                     \\\\\n",
       "\t 151603712                  & Fallout 4                  & play                       &  87.0                     \\\\\n",
       "\t 151603712                  & Spore                      & purchase                   &   1.0                     \\\\\n",
       "\t 151603712                  & Spore                      & play                       &  14.9                     \\\\\n",
       "\t 151603712                  & Fallout New Vegas          & purchase                   &   1.0                     \\\\\n",
       "\t 151603712                  & Fallout New Vegas          & play                       &  12.1                     \\\\\n",
       "\t 151603712                  & Left 4 Dead 2              & purchase                   &   1.0                     \\\\\n",
       "\t 151603712                  & Left 4 Dead 2              & play                       &   8.9                     \\\\\n",
       "\t 151603712                  & HuniePop                   & purchase                   &   1.0                     \\\\\n",
       "\t 151603712                  & HuniePop                   & play                       &   8.5                     \\\\\n",
       "\t 151603712                  & Path of Exile              & purchase                   &   1.0                     \\\\\n",
       "\t 151603712                  & Path of Exile              & play                       &   8.1                     \\\\\n",
       "\t 151603712                  & Poly Bridge                & purchase                   &   1.0                     \\\\\n",
       "\t 151603712                  & Poly Bridge                & play                       &   7.5                     \\\\\n",
       "\t 151603712                  & Left 4 Dead                & purchase                   &   1.0                     \\\\\n",
       "\t 151603712                  & Left 4 Dead                & play                       &   3.3                     \\\\\n",
       "\t 151603712                  & Team Fortress 2            & purchase                   &   1.0                     \\\\\n",
       "\t 151603712                  & Team Fortress 2            & play                       &   2.8                     \\\\\n",
       "\\end{tabular}\n"
      ],
      "text/markdown": [
       "\n",
       "user_id | game_title | behavior_name | value | \n",
       "|---|---|---|---|---|---|---|---|---|---|---|---|---|---|---|---|---|---|---|---|\n",
       "| 151603712                  | The Elder Scrolls V Skyrim | purchase                   |   1.0                      | \n",
       "| 151603712                  | The Elder Scrolls V Skyrim | play                       | 273.0                      | \n",
       "| 151603712                  | Fallout 4                  | purchase                   |   1.0                      | \n",
       "| 151603712                  | Fallout 4                  | play                       |  87.0                      | \n",
       "| 151603712                  | Spore                      | purchase                   |   1.0                      | \n",
       "| 151603712                  | Spore                      | play                       |  14.9                      | \n",
       "| 151603712                  | Fallout New Vegas          | purchase                   |   1.0                      | \n",
       "| 151603712                  | Fallout New Vegas          | play                       |  12.1                      | \n",
       "| 151603712                  | Left 4 Dead 2              | purchase                   |   1.0                      | \n",
       "| 151603712                  | Left 4 Dead 2              | play                       |   8.9                      | \n",
       "| 151603712                  | HuniePop                   | purchase                   |   1.0                      | \n",
       "| 151603712                  | HuniePop                   | play                       |   8.5                      | \n",
       "| 151603712                  | Path of Exile              | purchase                   |   1.0                      | \n",
       "| 151603712                  | Path of Exile              | play                       |   8.1                      | \n",
       "| 151603712                  | Poly Bridge                | purchase                   |   1.0                      | \n",
       "| 151603712                  | Poly Bridge                | play                       |   7.5                      | \n",
       "| 151603712                  | Left 4 Dead                | purchase                   |   1.0                      | \n",
       "| 151603712                  | Left 4 Dead                | play                       |   3.3                      | \n",
       "| 151603712                  | Team Fortress 2            | purchase                   |   1.0                      | \n",
       "| 151603712                  | Team Fortress 2            | play                       |   2.8                      | \n",
       "\n",
       "\n"
      ],
      "text/plain": [
       "   user_id   game_title                 behavior_name value\n",
       "1  151603712 The Elder Scrolls V Skyrim purchase        1.0\n",
       "2  151603712 The Elder Scrolls V Skyrim play          273.0\n",
       "3  151603712 Fallout 4                  purchase        1.0\n",
       "4  151603712 Fallout 4                  play           87.0\n",
       "5  151603712 Spore                      purchase        1.0\n",
       "6  151603712 Spore                      play           14.9\n",
       "7  151603712 Fallout New Vegas          purchase        1.0\n",
       "8  151603712 Fallout New Vegas          play           12.1\n",
       "9  151603712 Left 4 Dead 2              purchase        1.0\n",
       "10 151603712 Left 4 Dead 2              play            8.9\n",
       "11 151603712 HuniePop                   purchase        1.0\n",
       "12 151603712 HuniePop                   play            8.5\n",
       "13 151603712 Path of Exile              purchase        1.0\n",
       "14 151603712 Path of Exile              play            8.1\n",
       "15 151603712 Poly Bridge                purchase        1.0\n",
       "16 151603712 Poly Bridge                play            7.5\n",
       "17 151603712 Left 4 Dead                purchase        1.0\n",
       "18 151603712 Left 4 Dead                play            3.3\n",
       "19 151603712 Team Fortress 2            purchase        1.0\n",
       "20 151603712 Team Fortress 2            play            2.8"
      ]
     },
     "metadata": {},
     "output_type": "display_data"
    }
   ],
   "source": [
    "# your code goes here :)\n",
    "# look at just the first 20 rows\n",
    "video_games[1:20,]"
   ]
  },
  {
   "cell_type": "code",
   "execution_count": 28,
   "metadata": {},
   "outputs": [
    {
     "data": {
      "text/html": [
       "<table>\n",
       "<thead><tr><th scope=col>user_id</th><th scope=col>game_title</th><th scope=col>behavior_name</th><th scope=col>value</th></tr></thead>\n",
       "<tbody>\n",
       "\t<tr><td>151603712  </td><td>Left 4 Dead</td><td>purchase   </td><td>1          </td></tr>\n",
       "</tbody>\n",
       "</table>\n"
      ],
      "text/latex": [
       "\\begin{tabular}{r|llll}\n",
       " user\\_id & game\\_title & behavior\\_name & value\\\\\n",
       "\\hline\n",
       "\t 151603712   & Left 4 Dead & purchase    & 1          \\\\\n",
       "\\end{tabular}\n"
      ],
      "text/markdown": [
       "\n",
       "user_id | game_title | behavior_name | value | \n",
       "|---|\n",
       "| 151603712   | Left 4 Dead | purchase    | 1           | \n",
       "\n",
       "\n"
      ],
      "text/plain": [
       "  user_id   game_title  behavior_name value\n",
       "1 151603712 Left 4 Dead purchase      1    "
      ]
     },
     "metadata": {},
     "output_type": "display_data"
    }
   ],
   "source": [
    "# automatically remove duplicated values, including partials\n",
    "video_games_deduped <- video_games[1:20,] %>%\n",
    "    dedup()\n",
    "\n",
    "# see duplicate records\n",
    "attr(video_games_deduped, \"dups\")"
   ]
  },
  {
   "cell_type": "code",
   "execution_count": 29,
   "metadata": {},
   "outputs": [
    {
     "data": {
      "text/html": [
       "<table>\n",
       "<thead><tr><th scope=col>user_id</th><th scope=col>game_title</th><th scope=col>behavior_name</th><th scope=col>value</th></tr></thead>\n",
       "<tbody>\n",
       "\t<tr><td>151603712                 </td><td>The Elder Scrolls V Skyrim</td><td>play                      </td><td>273.0                     </td></tr>\n",
       "\t<tr><td>151603712                 </td><td>Fallout New Vegas         </td><td>purchase                  </td><td>  1.0                     </td></tr>\n",
       "\t<tr><td>151603712                 </td><td>Left 4 Dead               </td><td>purchase                  </td><td>  1.0                     </td></tr>\n",
       "\t<tr><td>151603712                 </td><td>Left 4 Dead               </td><td>play                      </td><td>  3.3                     </td></tr>\n",
       "</tbody>\n",
       "</table>\n"
      ],
      "text/latex": [
       "\\begin{tabular}{r|llll}\n",
       " user\\_id & game\\_title & behavior\\_name & value\\\\\n",
       "\\hline\n",
       "\t 151603712                  & The Elder Scrolls V Skyrim & play                       & 273.0                     \\\\\n",
       "\t 151603712                  & Fallout New Vegas          & purchase                   &   1.0                     \\\\\n",
       "\t 151603712                  & Left 4 Dead                & purchase                   &   1.0                     \\\\\n",
       "\t 151603712                  & Left 4 Dead                & play                       &   3.3                     \\\\\n",
       "\\end{tabular}\n"
      ],
      "text/markdown": [
       "\n",
       "user_id | game_title | behavior_name | value | \n",
       "|---|---|---|---|\n",
       "| 151603712                  | The Elder Scrolls V Skyrim | play                       | 273.0                      | \n",
       "| 151603712                  | Fallout New Vegas          | purchase                   |   1.0                      | \n",
       "| 151603712                  | Left 4 Dead                | purchase                   |   1.0                      | \n",
       "| 151603712                  | Left 4 Dead                | play                       |   3.3                      | \n",
       "\n",
       "\n"
      ],
      "text/plain": [
       "  user_id   game_title                 behavior_name value\n",
       "1 151603712 The Elder Scrolls V Skyrim play          273.0\n",
       "2 151603712 Fallout New Vegas          purchase        1.0\n",
       "3 151603712 Left 4 Dead                purchase        1.0\n",
       "4 151603712 Left 4 Dead                play            3.3"
      ]
     },
     "metadata": {},
     "output_type": "display_data"
    }
   ],
   "source": [
    "video_games_deduped <- video_games[1:20,] %>%\n",
    "    dedup(tolerance = 0.8)\n",
    "\n",
    "# see duplicate records\n",
    "attr(video_games_deduped, \"dups\")"
   ]
  },
  {
   "cell_type": "code",
   "execution_count": 30,
   "metadata": {},
   "outputs": [
    {
     "data": {
      "text/html": [
       "<table>\n",
       "<thead><tr><th scope=col>user_id</th><th scope=col>game_title</th><th scope=col>behavior_name</th><th scope=col>value</th></tr></thead>\n",
       "<tbody>\n",
       "\t<tr><td>151603712                 </td><td>The Elder Scrolls V Skyrim</td><td>play                      </td><td>273.0                     </td></tr>\n",
       "\t<tr><td>151603712                 </td><td>Fallout 4                 </td><td>purchase                  </td><td>  1.0                     </td></tr>\n",
       "\t<tr><td>151603712                 </td><td>Spore                     </td><td>purchase                  </td><td>  1.0                     </td></tr>\n",
       "\t<tr><td>151603712                 </td><td>Poly Bridge               </td><td>purchase                  </td><td>  1.0                     </td></tr>\n",
       "\t<tr><td>151603712                 </td><td>Fallout 4                 </td><td>play                      </td><td> 87.0                     </td></tr>\n",
       "\t<tr><td>151603712                 </td><td>Spore                     </td><td>purchase                  </td><td>  1.0                     </td></tr>\n",
       "\t<tr><td>151603712                 </td><td>Fallout New Vegas         </td><td>purchase                  </td><td>  1.0                     </td></tr>\n",
       "\t<tr><td>151603712                 </td><td>Fallout New Vegas         </td><td>play                      </td><td> 12.1                     </td></tr>\n",
       "\t<tr><td>151603712                 </td><td>Left 4 Dead 2             </td><td>purchase                  </td><td>  1.0                     </td></tr>\n",
       "\t<tr><td>151603712                 </td><td>HuniePop                  </td><td>purchase                  </td><td>  1.0                     </td></tr>\n",
       "\t<tr><td>151603712                 </td><td>Path of Exile             </td><td>purchase                  </td><td>  1.0                     </td></tr>\n",
       "\t<tr><td>151603712                 </td><td>Poly Bridge               </td><td>purchase                  </td><td>  1.0                     </td></tr>\n",
       "\t<tr><td>151603712                 </td><td>Left 4 Dead               </td><td>purchase                  </td><td>  1.0                     </td></tr>\n",
       "\t<tr><td>151603712                 </td><td>Team Fortress 2           </td><td>purchase                  </td><td>  1.0                     </td></tr>\n",
       "\t<tr><td>151603712                 </td><td>Fallout New Vegas         </td><td>play                      </td><td> 12.1                     </td></tr>\n",
       "\t<tr><td>151603712                 </td><td>Spore                     </td><td>play                      </td><td> 14.9                     </td></tr>\n",
       "\t<tr><td>151603712                 </td><td>Fallout New Vegas         </td><td>purchase                  </td><td>  1.0                     </td></tr>\n",
       "\t<tr><td>151603712                 </td><td>Left 4 Dead 2             </td><td>purchase                  </td><td>  1.0                     </td></tr>\n",
       "\t<tr><td>151603712                 </td><td>HuniePop                  </td><td>purchase                  </td><td>  1.0                     </td></tr>\n",
       "\t<tr><td>151603712                 </td><td>Path of Exile             </td><td>purchase                  </td><td>  1.0                     </td></tr>\n",
       "\t<tr><td>151603712                 </td><td>Poly Bridge               </td><td>purchase                  </td><td>  1.0                     </td></tr>\n",
       "\t<tr><td>151603712                 </td><td>Left 4 Dead               </td><td>purchase                  </td><td>  1.0                     </td></tr>\n",
       "\t<tr><td>151603712                 </td><td>Team Fortress 2           </td><td>purchase                  </td><td>  1.0                     </td></tr>\n",
       "\t<tr><td>151603712                 </td><td>Left 4 Dead 2             </td><td>play                      </td><td>  8.9                     </td></tr>\n",
       "\t<tr><td>151603712                 </td><td>Fallout New Vegas         </td><td>play                      </td><td> 12.1                     </td></tr>\n",
       "\t<tr><td>151603712                 </td><td>Left 4 Dead 2             </td><td>purchase                  </td><td>  1.0                     </td></tr>\n",
       "\t<tr><td>151603712                 </td><td>HuniePop                  </td><td>purchase                  </td><td>  1.0                     </td></tr>\n",
       "\t<tr><td>151603712                 </td><td>Path of Exile             </td><td>purchase                  </td><td>  1.0                     </td></tr>\n",
       "\t<tr><td>151603712                 </td><td>Poly Bridge               </td><td>purchase                  </td><td>  1.0                     </td></tr>\n",
       "\t<tr><td>151603712                 </td><td>Left 4 Dead               </td><td>purchase                  </td><td>  1.0                     </td></tr>\n",
       "\t<tr><td>151603712                 </td><td>Team Fortress 2           </td><td>purchase                  </td><td>  1.0                     </td></tr>\n",
       "\t<tr><td>151603712                 </td><td>Left 4 Dead 2             </td><td>play                      </td><td>  8.9                     </td></tr>\n",
       "\t<tr><td>151603712                 </td><td>HuniePop                  </td><td>purchase                  </td><td>  1.0                     </td></tr>\n",
       "\t<tr><td>151603712                 </td><td>Path of Exile             </td><td>purchase                  </td><td>  1.0                     </td></tr>\n",
       "\t<tr><td>151603712                 </td><td>Poly Bridge               </td><td>purchase                  </td><td>  1.0                     </td></tr>\n",
       "\t<tr><td>151603712                 </td><td>Left 4 Dead               </td><td>purchase                  </td><td>  1.0                     </td></tr>\n",
       "\t<tr><td>151603712                 </td><td>Left 4 Dead               </td><td>play                      </td><td>  3.3                     </td></tr>\n",
       "\t<tr><td>151603712                 </td><td>Team Fortress 2           </td><td>purchase                  </td><td>  1.0                     </td></tr>\n",
       "\t<tr><td>151603712                 </td><td>HuniePop                  </td><td>play                      </td><td>  8.5                     </td></tr>\n",
       "\t<tr><td>151603712                 </td><td>Left 4 Dead               </td><td>purchase                  </td><td>  1.0                     </td></tr>\n",
       "\t<tr><td>151603712                 </td><td>Left 4 Dead               </td><td>play                      </td><td>  3.3                     </td></tr>\n",
       "\t<tr><td>151603712                 </td><td>HuniePop                  </td><td>play                      </td><td>  8.5                     </td></tr>\n",
       "\t<tr><td>151603712                 </td><td>Path of Exile             </td><td>purchase                  </td><td>  1.0                     </td></tr>\n",
       "\t<tr><td>151603712                 </td><td>Poly Bridge               </td><td>purchase                  </td><td>  1.0                     </td></tr>\n",
       "\t<tr><td>151603712                 </td><td>Left 4 Dead               </td><td>purchase                  </td><td>  1.0                     </td></tr>\n",
       "\t<tr><td>151603712                 </td><td>Team Fortress 2           </td><td>purchase                  </td><td>  1.0                     </td></tr>\n",
       "\t<tr><td>151603712                 </td><td>Poly Bridge               </td><td>play                      </td><td>  7.5                     </td></tr>\n",
       "\t<tr><td>151603712                 </td><td>Path of Exile             </td><td>play                      </td><td>  8.1                     </td></tr>\n",
       "\t<tr><td>151603712                 </td><td>Poly Bridge               </td><td>purchase                  </td><td>  1.0                     </td></tr>\n",
       "\t<tr><td>151603712                 </td><td>Left 4 Dead               </td><td>purchase                  </td><td>  1.0                     </td></tr>\n",
       "\t<tr><td>151603712                 </td><td>Team Fortress 2           </td><td>purchase                  </td><td>  1.0                     </td></tr>\n",
       "\t<tr><td>151603712                 </td><td>Poly Bridge               </td><td>play                      </td><td>  7.5                     </td></tr>\n",
       "\t<tr><td>151603712                 </td><td>Left 4 Dead               </td><td>purchase                  </td><td>  1.0                     </td></tr>\n",
       "\t<tr><td>151603712                 </td><td>Team Fortress 2           </td><td>purchase                  </td><td>  1.0                     </td></tr>\n",
       "\t<tr><td>151603712                 </td><td>Left 4 Dead               </td><td>play                      </td><td>  3.3                     </td></tr>\n",
       "\t<tr><td>151603712                 </td><td>Team Fortress 2           </td><td>purchase                  </td><td>  1.0                     </td></tr>\n",
       "\t<tr><td>151603712                 </td><td>Team Fortress 2           </td><td>play                      </td><td>  2.8                     </td></tr>\n",
       "</tbody>\n",
       "</table>\n"
      ],
      "text/latex": [
       "\\begin{tabular}{r|llll}\n",
       " user\\_id & game\\_title & behavior\\_name & value\\\\\n",
       "\\hline\n",
       "\t 151603712                  & The Elder Scrolls V Skyrim & play                       & 273.0                     \\\\\n",
       "\t 151603712                  & Fallout 4                  & purchase                   &   1.0                     \\\\\n",
       "\t 151603712                  & Spore                      & purchase                   &   1.0                     \\\\\n",
       "\t 151603712                  & Poly Bridge                & purchase                   &   1.0                     \\\\\n",
       "\t 151603712                  & Fallout 4                  & play                       &  87.0                     \\\\\n",
       "\t 151603712                  & Spore                      & purchase                   &   1.0                     \\\\\n",
       "\t 151603712                  & Fallout New Vegas          & purchase                   &   1.0                     \\\\\n",
       "\t 151603712                  & Fallout New Vegas          & play                       &  12.1                     \\\\\n",
       "\t 151603712                  & Left 4 Dead 2              & purchase                   &   1.0                     \\\\\n",
       "\t 151603712                  & HuniePop                   & purchase                   &   1.0                     \\\\\n",
       "\t 151603712                  & Path of Exile              & purchase                   &   1.0                     \\\\\n",
       "\t 151603712                  & Poly Bridge                & purchase                   &   1.0                     \\\\\n",
       "\t 151603712                  & Left 4 Dead                & purchase                   &   1.0                     \\\\\n",
       "\t 151603712                  & Team Fortress 2            & purchase                   &   1.0                     \\\\\n",
       "\t 151603712                  & Fallout New Vegas          & play                       &  12.1                     \\\\\n",
       "\t 151603712                  & Spore                      & play                       &  14.9                     \\\\\n",
       "\t 151603712                  & Fallout New Vegas          & purchase                   &   1.0                     \\\\\n",
       "\t 151603712                  & Left 4 Dead 2              & purchase                   &   1.0                     \\\\\n",
       "\t 151603712                  & HuniePop                   & purchase                   &   1.0                     \\\\\n",
       "\t 151603712                  & Path of Exile              & purchase                   &   1.0                     \\\\\n",
       "\t 151603712                  & Poly Bridge                & purchase                   &   1.0                     \\\\\n",
       "\t 151603712                  & Left 4 Dead                & purchase                   &   1.0                     \\\\\n",
       "\t 151603712                  & Team Fortress 2            & purchase                   &   1.0                     \\\\\n",
       "\t 151603712                  & Left 4 Dead 2              & play                       &   8.9                     \\\\\n",
       "\t 151603712                  & Fallout New Vegas          & play                       &  12.1                     \\\\\n",
       "\t 151603712                  & Left 4 Dead 2              & purchase                   &   1.0                     \\\\\n",
       "\t 151603712                  & HuniePop                   & purchase                   &   1.0                     \\\\\n",
       "\t 151603712                  & Path of Exile              & purchase                   &   1.0                     \\\\\n",
       "\t 151603712                  & Poly Bridge                & purchase                   &   1.0                     \\\\\n",
       "\t 151603712                  & Left 4 Dead                & purchase                   &   1.0                     \\\\\n",
       "\t 151603712                  & Team Fortress 2            & purchase                   &   1.0                     \\\\\n",
       "\t 151603712                  & Left 4 Dead 2              & play                       &   8.9                     \\\\\n",
       "\t 151603712                  & HuniePop                   & purchase                   &   1.0                     \\\\\n",
       "\t 151603712                  & Path of Exile              & purchase                   &   1.0                     \\\\\n",
       "\t 151603712                  & Poly Bridge                & purchase                   &   1.0                     \\\\\n",
       "\t 151603712                  & Left 4 Dead                & purchase                   &   1.0                     \\\\\n",
       "\t 151603712                  & Left 4 Dead                & play                       &   3.3                     \\\\\n",
       "\t 151603712                  & Team Fortress 2            & purchase                   &   1.0                     \\\\\n",
       "\t 151603712                  & HuniePop                   & play                       &   8.5                     \\\\\n",
       "\t 151603712                  & Left 4 Dead                & purchase                   &   1.0                     \\\\\n",
       "\t 151603712                  & Left 4 Dead                & play                       &   3.3                     \\\\\n",
       "\t 151603712                  & HuniePop                   & play                       &   8.5                     \\\\\n",
       "\t 151603712                  & Path of Exile              & purchase                   &   1.0                     \\\\\n",
       "\t 151603712                  & Poly Bridge                & purchase                   &   1.0                     \\\\\n",
       "\t 151603712                  & Left 4 Dead                & purchase                   &   1.0                     \\\\\n",
       "\t 151603712                  & Team Fortress 2            & purchase                   &   1.0                     \\\\\n",
       "\t 151603712                  & Poly Bridge                & play                       &   7.5                     \\\\\n",
       "\t 151603712                  & Path of Exile              & play                       &   8.1                     \\\\\n",
       "\t 151603712                  & Poly Bridge                & purchase                   &   1.0                     \\\\\n",
       "\t 151603712                  & Left 4 Dead                & purchase                   &   1.0                     \\\\\n",
       "\t 151603712                  & Team Fortress 2            & purchase                   &   1.0                     \\\\\n",
       "\t 151603712                  & Poly Bridge                & play                       &   7.5                     \\\\\n",
       "\t 151603712                  & Left 4 Dead                & purchase                   &   1.0                     \\\\\n",
       "\t 151603712                  & Team Fortress 2            & purchase                   &   1.0                     \\\\\n",
       "\t 151603712                  & Left 4 Dead                & play                       &   3.3                     \\\\\n",
       "\t 151603712                  & Team Fortress 2            & purchase                   &   1.0                     \\\\\n",
       "\t 151603712                  & Team Fortress 2            & play                       &   2.8                     \\\\\n",
       "\\end{tabular}\n"
      ],
      "text/markdown": [
       "\n",
       "user_id | game_title | behavior_name | value | \n",
       "|---|---|---|---|---|---|---|---|---|---|---|---|---|---|---|---|---|---|---|---|---|---|---|---|---|---|---|---|---|---|---|---|---|---|---|---|---|---|---|---|---|---|---|---|---|---|---|---|---|---|---|---|---|---|---|---|---|\n",
       "| 151603712                  | The Elder Scrolls V Skyrim | play                       | 273.0                      | \n",
       "| 151603712                  | Fallout 4                  | purchase                   |   1.0                      | \n",
       "| 151603712                  | Spore                      | purchase                   |   1.0                      | \n",
       "| 151603712                  | Poly Bridge                | purchase                   |   1.0                      | \n",
       "| 151603712                  | Fallout 4                  | play                       |  87.0                      | \n",
       "| 151603712                  | Spore                      | purchase                   |   1.0                      | \n",
       "| 151603712                  | Fallout New Vegas          | purchase                   |   1.0                      | \n",
       "| 151603712                  | Fallout New Vegas          | play                       |  12.1                      | \n",
       "| 151603712                  | Left 4 Dead 2              | purchase                   |   1.0                      | \n",
       "| 151603712                  | HuniePop                   | purchase                   |   1.0                      | \n",
       "| 151603712                  | Path of Exile              | purchase                   |   1.0                      | \n",
       "| 151603712                  | Poly Bridge                | purchase                   |   1.0                      | \n",
       "| 151603712                  | Left 4 Dead                | purchase                   |   1.0                      | \n",
       "| 151603712                  | Team Fortress 2            | purchase                   |   1.0                      | \n",
       "| 151603712                  | Fallout New Vegas          | play                       |  12.1                      | \n",
       "| 151603712                  | Spore                      | play                       |  14.9                      | \n",
       "| 151603712                  | Fallout New Vegas          | purchase                   |   1.0                      | \n",
       "| 151603712                  | Left 4 Dead 2              | purchase                   |   1.0                      | \n",
       "| 151603712                  | HuniePop                   | purchase                   |   1.0                      | \n",
       "| 151603712                  | Path of Exile              | purchase                   |   1.0                      | \n",
       "| 151603712                  | Poly Bridge                | purchase                   |   1.0                      | \n",
       "| 151603712                  | Left 4 Dead                | purchase                   |   1.0                      | \n",
       "| 151603712                  | Team Fortress 2            | purchase                   |   1.0                      | \n",
       "| 151603712                  | Left 4 Dead 2              | play                       |   8.9                      | \n",
       "| 151603712                  | Fallout New Vegas          | play                       |  12.1                      | \n",
       "| 151603712                  | Left 4 Dead 2              | purchase                   |   1.0                      | \n",
       "| 151603712                  | HuniePop                   | purchase                   |   1.0                      | \n",
       "| 151603712                  | Path of Exile              | purchase                   |   1.0                      | \n",
       "| 151603712                  | Poly Bridge                | purchase                   |   1.0                      | \n",
       "| 151603712                  | Left 4 Dead                | purchase                   |   1.0                      | \n",
       "| 151603712                  | Team Fortress 2            | purchase                   |   1.0                      | \n",
       "| 151603712                  | Left 4 Dead 2              | play                       |   8.9                      | \n",
       "| 151603712                  | HuniePop                   | purchase                   |   1.0                      | \n",
       "| 151603712                  | Path of Exile              | purchase                   |   1.0                      | \n",
       "| 151603712                  | Poly Bridge                | purchase                   |   1.0                      | \n",
       "| 151603712                  | Left 4 Dead                | purchase                   |   1.0                      | \n",
       "| 151603712                  | Left 4 Dead                | play                       |   3.3                      | \n",
       "| 151603712                  | Team Fortress 2            | purchase                   |   1.0                      | \n",
       "| 151603712                  | HuniePop                   | play                       |   8.5                      | \n",
       "| 151603712                  | Left 4 Dead                | purchase                   |   1.0                      | \n",
       "| 151603712                  | Left 4 Dead                | play                       |   3.3                      | \n",
       "| 151603712                  | HuniePop                   | play                       |   8.5                      | \n",
       "| 151603712                  | Path of Exile              | purchase                   |   1.0                      | \n",
       "| 151603712                  | Poly Bridge                | purchase                   |   1.0                      | \n",
       "| 151603712                  | Left 4 Dead                | purchase                   |   1.0                      | \n",
       "| 151603712                  | Team Fortress 2            | purchase                   |   1.0                      | \n",
       "| 151603712                  | Poly Bridge                | play                       |   7.5                      | \n",
       "| 151603712                  | Path of Exile              | play                       |   8.1                      | \n",
       "| 151603712                  | Poly Bridge                | purchase                   |   1.0                      | \n",
       "| 151603712                  | Left 4 Dead                | purchase                   |   1.0                      | \n",
       "| 151603712                  | Team Fortress 2            | purchase                   |   1.0                      | \n",
       "| 151603712                  | Poly Bridge                | play                       |   7.5                      | \n",
       "| 151603712                  | Left 4 Dead                | purchase                   |   1.0                      | \n",
       "| 151603712                  | Team Fortress 2            | purchase                   |   1.0                      | \n",
       "| 151603712                  | Left 4 Dead                | play                       |   3.3                      | \n",
       "| 151603712                  | Team Fortress 2            | purchase                   |   1.0                      | \n",
       "| 151603712                  | Team Fortress 2            | play                       |   2.8                      | \n",
       "\n",
       "\n"
      ],
      "text/plain": [
       "   user_id   game_title                 behavior_name value\n",
       "1  151603712 The Elder Scrolls V Skyrim play          273.0\n",
       "2  151603712 Fallout 4                  purchase        1.0\n",
       "3  151603712 Spore                      purchase        1.0\n",
       "4  151603712 Poly Bridge                purchase        1.0\n",
       "5  151603712 Fallout 4                  play           87.0\n",
       "6  151603712 Spore                      purchase        1.0\n",
       "7  151603712 Fallout New Vegas          purchase        1.0\n",
       "8  151603712 Fallout New Vegas          play           12.1\n",
       "9  151603712 Left 4 Dead 2              purchase        1.0\n",
       "10 151603712 HuniePop                   purchase        1.0\n",
       "11 151603712 Path of Exile              purchase        1.0\n",
       "12 151603712 Poly Bridge                purchase        1.0\n",
       "13 151603712 Left 4 Dead                purchase        1.0\n",
       "14 151603712 Team Fortress 2            purchase        1.0\n",
       "15 151603712 Fallout New Vegas          play           12.1\n",
       "16 151603712 Spore                      play           14.9\n",
       "17 151603712 Fallout New Vegas          purchase        1.0\n",
       "18 151603712 Left 4 Dead 2              purchase        1.0\n",
       "19 151603712 HuniePop                   purchase        1.0\n",
       "20 151603712 Path of Exile              purchase        1.0\n",
       "21 151603712 Poly Bridge                purchase        1.0\n",
       "22 151603712 Left 4 Dead                purchase        1.0\n",
       "23 151603712 Team Fortress 2            purchase        1.0\n",
       "24 151603712 Left 4 Dead 2              play            8.9\n",
       "25 151603712 Fallout New Vegas          play           12.1\n",
       "26 151603712 Left 4 Dead 2              purchase        1.0\n",
       "27 151603712 HuniePop                   purchase        1.0\n",
       "28 151603712 Path of Exile              purchase        1.0\n",
       "29 151603712 Poly Bridge                purchase        1.0\n",
       "30 151603712 Left 4 Dead                purchase        1.0\n",
       "31 151603712 Team Fortress 2            purchase        1.0\n",
       "32 151603712 Left 4 Dead 2              play            8.9\n",
       "33 151603712 HuniePop                   purchase        1.0\n",
       "34 151603712 Path of Exile              purchase        1.0\n",
       "35 151603712 Poly Bridge                purchase        1.0\n",
       "36 151603712 Left 4 Dead                purchase        1.0\n",
       "37 151603712 Left 4 Dead                play            3.3\n",
       "38 151603712 Team Fortress 2            purchase        1.0\n",
       "39 151603712 HuniePop                   play            8.5\n",
       "40 151603712 Left 4 Dead                purchase        1.0\n",
       "41 151603712 Left 4 Dead                play            3.3\n",
       "42 151603712 HuniePop                   play            8.5\n",
       "43 151603712 Path of Exile              purchase        1.0\n",
       "44 151603712 Poly Bridge                purchase        1.0\n",
       "45 151603712 Left 4 Dead                purchase        1.0\n",
       "46 151603712 Team Fortress 2            purchase        1.0\n",
       "47 151603712 Poly Bridge                play            7.5\n",
       "48 151603712 Path of Exile              play            8.1\n",
       "49 151603712 Poly Bridge                purchase        1.0\n",
       "50 151603712 Left 4 Dead                purchase        1.0\n",
       "51 151603712 Team Fortress 2            purchase        1.0\n",
       "52 151603712 Poly Bridge                play            7.5\n",
       "53 151603712 Left 4 Dead                purchase        1.0\n",
       "54 151603712 Team Fortress 2            purchase        1.0\n",
       "55 151603712 Left 4 Dead                play            3.3\n",
       "56 151603712 Team Fortress 2            purchase        1.0\n",
       "57 151603712 Team Fortress 2            play            2.8"
      ]
     },
     "metadata": {},
     "output_type": "display_data"
    }
   ],
   "source": [
    "video_games_deduped <- video_games[1:20,] %>%\n",
    "    dedup(tolerance = 0.6)\n",
    "\n",
    "# see duplicate records\n",
    "attr(video_games_deduped, \"dups\")"
   ]
  },
  {
   "cell_type": "markdown",
   "metadata": {
    "_cell_guid": "f317c3c2-67ac-4789-a2da-3543edf01757",
    "_uuid": "67c540ce67fdc9d29b28fdaf703f399d3dc20737"
   },
   "source": [
    "# And that's it for Day 4!\n",
    "___\n",
    "\n",
    "And that's it for today! If you have any questions, be sure to post them in the comments below or on the forums.\n",
    "\n",
    "Remember that your notebook is private by default, and in order to share it with other people or ask for help with it, you'll need to make it public. First, you'll need to save a version of your notebook that shows your current work by hitting the \"Commit & Run\" button. (Your work is saved automatically, but versioning your work lets you go back and look at what it was like at the point you saved it. It also lets you share a nice compiled notebook instead of just the raw code.) Then, once your notebook is finished running, you can go to the Settings tab in the panel to the left (you may have to expand it by hitting the [<] button next to the \"Commit & Run\" button) and setting the \"Visibility\" dropdown to \"Public\". \n",
    "\n"
   ]
  }
 ],
 "metadata": {
  "kernelspec": {
   "display_name": "R 3.4",
   "language": "R",
   "name": "ir34"
  },
  "language_info": {
   "codemirror_mode": "r",
   "file_extension": ".r",
   "mimetype": "text/x-r-source",
   "name": "R",
   "pygments_lexer": "r",
   "version": "3.4.1"
  }
 },
 "nbformat": 4,
 "nbformat_minor": 1
}
